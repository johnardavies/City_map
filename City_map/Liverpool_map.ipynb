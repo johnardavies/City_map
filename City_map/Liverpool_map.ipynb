{
 "cells": [
  {
   "cell_type": "code",
   "execution_count": 44,
   "metadata": {},
   "outputs": [],
   "source": [
    "import pandas as pd #importing the Pandas Library as 'pd'\n",
    "from keplergl import KeplerGl #importing KeplerGl\n",
    "import geopandas as gpd #importing geopandas as 'gpd'\n",
    "from shapely.geometry import Point\n",
    "import xml.etree.ElementTree as ET\n",
    "\n",
    "from geopy.geocoders import Nominatim # Imports the geopy for the geocoding"
   ]
  },
  {
   "cell_type": "code",
   "execution_count": 45,
   "metadata": {},
   "outputs": [
    {
     "name": "stdout",
     "output_type": "stream",
     "text": [
      "User Guide: https://docs.kepler.gl/docs/keplergl-jupyter\n"
     ]
    }
   ],
   "source": [
    "\n",
    "map = KeplerGl(height=600, width=800)"
   ]
  },
  {
   "cell_type": "code",
   "execution_count": 46,
   "metadata": {},
   "outputs": [],
   "source": [
    "filename = \"Liverpool.geojson\"\n",
    "file = open(filename)\n",
    "df = gpd.read_file(file)"
   ]
  },
  {
   "cell_type": "code",
   "execution_count": 130,
   "metadata": {},
   "outputs": [
    {
     "data": {
      "text/plain": [
       "['LSOA11CD',\n",
       " 'LSOA11NM',\n",
       " 'LSOA code (2011)',\n",
       " 'LSOA name (2011)_x',\n",
       " 'Local Authority District code (2019)_x',\n",
       " 'Local Authority District name (2019)_x',\n",
       " 'Total population: mid 2015 (excluding prisoners)',\n",
       " 'Dependent Children aged 0-15: mid 2015 (excluding prisoners)',\n",
       " 'Population aged 16-59: mid 2015 (excluding prisoners)',\n",
       " 'Older population aged 60 and over: mid 2015 (excluding prisoners)',\n",
       " 'Working age population 18-59/64: for use with Employment Deprivation Domain (excluding prisoners)',\n",
       " 'LSOA name (2011)_y',\n",
       " 'Local Authority District code (2019)_y',\n",
       " 'Local Authority District name (2019)_y',\n",
       " 'Income Domain numerator',\n",
       " 'Income Deprivation Affecting Children Index (IDACI) numerator',\n",
       " 'Income Deprivation Affecting Older People Index (IDAOPI) numerator',\n",
       " 'Employment Domain numerator',\n",
       " 'Staying on in education post 16 indicator',\n",
       " 'Entry to higher education indicator',\n",
       " 'Adult skills and English language proficiency indicator',\n",
       " 'Years of potential life lost indicator',\n",
       " 'Comparative illness and disability ratio indicator',\n",
       " 'Acute morbidity indicator',\n",
       " 'Mood and anxiety disorders indicator',\n",
       " 'Road distance to a post office indicator (km)',\n",
       " 'Road distance to a primary school indicator (km)',\n",
       " 'Road distance to general store or supermarket indicator (km)',\n",
       " 'Road distance to a GP surgery indicator (km)',\n",
       " 'Household overcrowding indicator',\n",
       " 'Homelessness indicator (rate per 1000 households)',\n",
       " 'Owner-occupation affordability (component of housing affordability indicator)',\n",
       " 'Private rental affordability (component of housing affordability indicator)',\n",
       " 'Housing affordability indicator',\n",
       " 'LSOA name (2011)',\n",
       " 'Local Authority District code (2019)',\n",
       " 'Local Authority District name (2019)',\n",
       " 'Housing in poor condition indicator',\n",
       " 'Houses without central heating indicator',\n",
       " 'Road traffic accidents indicator',\n",
       " 'Nitrogen dioxide (component of air quality indicator)',\n",
       " 'Benzene (component of air quality indicator)',\n",
       " 'Sulphur dioxide (component of air quality indicator)',\n",
       " 'Particulates (component of air quality indicator)',\n",
       " 'Air quality indicator',\n",
       " 'geometry']"
      ]
     },
     "execution_count": 130,
     "metadata": {},
     "output_type": "execute_result"
    }
   ],
   "source": [
    "list(df)"
   ]
  },
  {
   "cell_type": "code",
   "execution_count": 143,
   "metadata": {},
   "outputs": [],
   "source": [
    "metrics=['Income Domain numerator',\n",
    " 'Income Deprivation Affecting Children Index (IDACI) numerator',\n",
    " 'Income Deprivation Affecting Older People Index (IDAOPI) numerator',\n",
    " 'Employment Domain numerator',\n",
    " 'Staying on in education post 16 indicator',\n",
    " 'Entry to higher education indicator',\n",
    " 'Adult skills and English language proficiency indicator',\n",
    " 'Years of potential life lost indicator',\n",
    " 'Comparative illness and disability ratio indicator',\n",
    " 'Acute morbidity indicator',\n",
    " 'Mood and anxiety disorders indicator',\n",
    " 'Road distance to a post office indicator (km)',\n",
    " 'Road distance to a primary school indicator (km)',\n",
    " 'Road distance to general store or supermarket indicator (km)',\n",
    " 'Road distance to a GP surgery indicator (km)',\n",
    " 'Household overcrowding indicator',\n",
    " 'Homelessness indicator (rate per 1000 households)',\n",
    " 'Owner-occupation affordability (component of housing affordability indicator)',\n",
    " 'Private rental affordability (component of housing affordability indicator)',\n",
    " 'Housing affordability indicator',\n",
    " 'Housing in poor condition indicator',\n",
    " 'Houses without central heating indicator',\n",
    " 'Road traffic accidents indicator',\n",
    " 'Nitrogen dioxide (component of air quality indicator)',\n",
    " 'Benzene (component of air quality indicator)',\n",
    " 'Sulphur dioxide (component of air quality indicator)',\n",
    " 'Particulates (component of air quality indicator)',\n",
    " 'Air quality indicator',\n",
    "        ]"
   ]
  },
  {
   "cell_type": "code",
   "execution_count": 142,
   "metadata": {},
   "outputs": [],
   "source": [
    "import numpy as np\n",
    "for elem in metrics:   \n",
    "    df[elem+\"_rank\"]=np.ceil(df[elem].rank( pct=True).mul(5)).astype('Int64')\n",
    "    "
   ]
  },
  {
   "cell_type": "code",
   "execution_count": 146,
   "metadata": {},
   "outputs": [],
   "source": [
    "df.head(n=5)\n",
    "\n",
    "# Write out the food outlets location as a geojson for use in the mapbox map\n",
    "df.to_file(\"Liverpool.geojson\", driver='GeoJSON')"
   ]
  },
  {
   "cell_type": "code",
   "execution_count": 48,
   "metadata": {},
   "outputs": [],
   "source": [
    "map.add_data(data=df, name=\"Liverpool_lsoa\")\n"
   ]
  },
  {
   "cell_type": "code",
   "execution_count": 49,
   "metadata": {
    "scrolled": true
   },
   "outputs": [
    {
     "name": "stdout",
     "output_type": "stream",
     "text": [
      "Requirement already satisfied: geopy in /opt/anaconda3/envs/citymap_env/lib/python3.7/site-packages (2.0.0)\r\n",
      "Requirement already satisfied: geographiclib<2,>=1.49 in /opt/anaconda3/envs/citymap_env/lib/python3.7/site-packages (from geopy) (1.50)\r\n"
     ]
    }
   ],
   "source": [
    "! pip3 install geopy"
   ]
  },
  {
   "cell_type": "code",
   "execution_count": 50,
   "metadata": {},
   "outputs": [],
   "source": [
    "# Notes on terms\n",
    "# Select a type polygon\n",
    "# Select geo as geometry\n",
    "# Strokes refer to the width of the line\n",
    "# Fill color changes the color of the polygons\n",
    "# Edit the 'new layer' to change the names of the\n",
    "# Press the eye icon in the exported widget to bring the layer to the top\n"
   ]
  },
  {
   "cell_type": "code",
   "execution_count": 51,
   "metadata": {},
   "outputs": [],
   "source": [
    "# Initialises the geocoding\n",
    "geolocator = Nominatim(user_agent=\"Liverpool_analysis\")\n"
   ]
  },
  {
   "cell_type": "code",
   "execution_count": 52,
   "metadata": {},
   "outputs": [],
   "source": [
    "# The geocoding function\n",
    "\n",
    "def long_lat_func(x):\n",
    "  try:\n",
    "    location = geolocator.geocode(str(x))\n",
    "    # Parse the tuple\n",
    "    return location.latitude , location.longitude\n",
    "  except:\n",
    "    return None, None"
   ]
  },
  {
   "cell_type": "markdown",
   "metadata": {},
   "source": [
    "# Adding in the restaurant locations"
   ]
  },
  {
   "cell_type": "code",
   "execution_count": 54,
   "metadata": {},
   "outputs": [
    {
     "ename": "IndentationError",
     "evalue": "unindent does not match any outer indentation level (<tokenize>, line 6)",
     "output_type": "error",
     "traceback": [
      "\u001b[0;36m  File \u001b[0;32m\"<tokenize>\"\u001b[0;36m, line \u001b[0;32m6\u001b[0m\n\u001b[0;31m    </Header>\u001b[0m\n\u001b[0m    ^\u001b[0m\n\u001b[0;31mIndentationError\u001b[0m\u001b[0;31m:\u001b[0m unindent does not match any outer indentation level\n"
     ]
    }
   ],
   "source": [
    "# Example of the xml that is being parsed\n",
    "'''\n",
    "<Header>\n",
    "    <ExtractDate>2021-01-27</ExtractDate>\n",
    "    <ItemCount>3959</ItemCount>\n",
    "    <ReturnCode>Success</ReturnCode>\n",
    "  </Header>\n",
    "  <EstablishmentCollection>\n",
    "    <EstablishmentDetail>\n",
    "      <FHRSID>1264123</FHRSID>\n",
    "      <LocalAuthorityBusinessID>78306</LocalAuthorityBusinessID>\n",
    "      <BusinessName>@Desserts</BusinessName>\n",
    "      <BusinessType>Takeaway/sandwich shop</BusinessType>\n",
    "      <BusinessTypeID>7844</BusinessTypeID>\n",
    "      <AddressLine1>17, Central Shopping Centre Ranelagh Street</AddressLine1>\n",
    "      <AddressLine3>Liverpool</AddressLine3>\n",
    "      <AddressLine4>Liverpool</AddressLine4>\n",
    "      <PostCode>L1 1QE</PostCode>\n",
    "      <RatingValue>AwaitingInspection</RatingValue>\n",
    "      <RatingKey>fhrs_awaitinginspection_en-GB</RatingKey>\n",
    "      <RatingDate xsi:nil=\"true\"/>\n",
    "      <LocalAuthorityCode>414</LocalAuthorityCode>\n",
    "      <LocalAuthorityName>Liverpool</LocalAuthorityName>\n",
    "      <LocalAuthorityWebSite>http://www.liverpool.gov.uk</LocalAuthorityWebSite>\n",
    "      <LocalAuthorityEmailAddress>environmental.health@liverpool.gov.uk</LocalAuthorityEmailAddress>\n",
    "      <Scores/>\n",
    "      <SchemeType>FHRS</SchemeType>\n",
    "      <NewRatingPending>False</NewRatingPending>\n",
    "      <Geocode>\n",
    "      \n",
    "      '''"
   ]
  },
  {
   "cell_type": "code",
   "execution_count": 55,
   "metadata": {},
   "outputs": [
    {
     "data": {
      "text/html": [
       "<div>\n",
       "<style scoped>\n",
       "    .dataframe tbody tr th:only-of-type {\n",
       "        vertical-align: middle;\n",
       "    }\n",
       "\n",
       "    .dataframe tbody tr th {\n",
       "        vertical-align: top;\n",
       "    }\n",
       "\n",
       "    .dataframe thead th {\n",
       "        text-align: right;\n",
       "    }\n",
       "</style>\n",
       "<table border=\"1\" class=\"dataframe\">\n",
       "  <thead>\n",
       "    <tr style=\"text-align: right;\">\n",
       "      <th></th>\n",
       "      <th>LocalAuthorityBusinessID</th>\n",
       "      <th>BusinessName</th>\n",
       "      <th>BusinessAddress</th>\n",
       "      <th>BusinessType</th>\n",
       "      <th>BusinessTypeID</th>\n",
       "      <th>RatingKey</th>\n",
       "      <th>Postcode</th>\n",
       "    </tr>\n",
       "  </thead>\n",
       "  <tbody>\n",
       "    <tr>\n",
       "      <th>0</th>\n",
       "      <td>78306</td>\n",
       "      <td>@Desserts</td>\n",
       "      <td>17, Central Shopping Centre Ranelagh Street L...</td>\n",
       "      <td>Takeaway/sandwich shop</td>\n",
       "      <td>7844</td>\n",
       "      <td>NaN</td>\n",
       "      <td>L1 1QE</td>\n",
       "    </tr>\n",
       "    <tr>\n",
       "      <th>1</th>\n",
       "      <td>71900</td>\n",
       "      <td>08 Burger Unit</td>\n",
       "      <td></td>\n",
       "      <td>Mobile caterer</td>\n",
       "      <td>7846</td>\n",
       "      <td>NaN</td>\n",
       "      <td>missing</td>\n",
       "    </tr>\n",
       "    <tr>\n",
       "      <th>2</th>\n",
       "      <td>79155</td>\n",
       "      <td>109 Allerton</td>\n",
       "      <td>109 Allerton Road Mossley Hill Liverpool L18 ...</td>\n",
       "      <td>Restaurant/Cafe/Canteen</td>\n",
       "      <td>1</td>\n",
       "      <td>NaN</td>\n",
       "      <td>L18 2DD</td>\n",
       "    </tr>\n",
       "    <tr>\n",
       "      <th>3</th>\n",
       "      <td>78939</td>\n",
       "      <td>14forty</td>\n",
       "      <td>100 Wavertree Boulevard Liverpool L7 9PT UK</td>\n",
       "      <td>Restaurant/Cafe/Canteen</td>\n",
       "      <td>1</td>\n",
       "      <td>NaN</td>\n",
       "      <td>L7 9PT</td>\n",
       "    </tr>\n",
       "    <tr>\n",
       "      <th>4</th>\n",
       "      <td>PI/000272350</td>\n",
       "      <td>2 in 1</td>\n",
       "      <td>54 Durning Road Liverpool L7 5NG UK</td>\n",
       "      <td>Takeaway/sandwich shop</td>\n",
       "      <td>7844</td>\n",
       "      <td>NaN</td>\n",
       "      <td>L7 5NG</td>\n",
       "    </tr>\n",
       "  </tbody>\n",
       "</table>\n",
       "</div>"
      ],
      "text/plain": [
       "  LocalAuthorityBusinessID    BusinessName  \\\n",
       "0                    78306       @Desserts   \n",
       "1                    71900  08 Burger Unit   \n",
       "2                    79155    109 Allerton   \n",
       "3                    78939         14forty   \n",
       "4             PI/000272350          2 in 1   \n",
       "\n",
       "                                     BusinessAddress             BusinessType  \\\n",
       "0   17, Central Shopping Centre Ranelagh Street L...   Takeaway/sandwich shop   \n",
       "1                                                              Mobile caterer   \n",
       "2   109 Allerton Road Mossley Hill Liverpool L18 ...  Restaurant/Cafe/Canteen   \n",
       "3        100 Wavertree Boulevard Liverpool L7 9PT UK  Restaurant/Cafe/Canteen   \n",
       "4                54 Durning Road Liverpool L7 5NG UK   Takeaway/sandwich shop   \n",
       "\n",
       "  BusinessTypeID  RatingKey Postcode  \n",
       "0           7844        NaN   L1 1QE  \n",
       "1           7846        NaN  missing  \n",
       "2              1        NaN  L18 2DD  \n",
       "3              1        NaN   L7 9PT  \n",
       "4           7844        NaN   L7 5NG  "
      ]
     },
     "execution_count": 55,
     "metadata": {},
     "output_type": "execute_result"
    }
   ],
   "source": [
    "tree = ET.parse('Liverpool.xml')\n",
    "root = tree.getroot()\n",
    "\n",
    "\n",
    "\n",
    "df_cols = [\"LocalAuthorityBusinessID\", \"BusinessName\",\"BusinessAddress\",\"BusinessType\",\"BusinessTypeID\", \"RatingKey\", \"Postcode\"]\n",
    "rows = []\n",
    "\n",
    "food_outlets_df  = pd.DataFrame(rows, columns = df_cols)\n",
    "\n",
    "for neighbor in root.iter('EstablishmentCollection'):\n",
    "   for node in neighbor:\n",
    "       bus_laid=node.find(\"LocalAuthorityBusinessID\").text  if node is not None else None\n",
    "       bus_rate=node.find(\"RatingKey\").text if node is not None else None  \n",
    "       bus_address=\"\"\n",
    "       try:\n",
    "        bus_address=bus_address+\" \"+node.find('AddressLine1').text \n",
    "       except:\n",
    "        bus_address=bus_address     \n",
    "       try:\n",
    "        bus_address=bus_address+\" \"+node.find('AddressLine2').text \n",
    "       except:\n",
    "        bus_address=bus_address \n",
    "       try:\n",
    "        bus_address=bus_address+\" \"+node.find('AddressLine3').text \n",
    "       except:\n",
    "        bus_address=bus_address\n",
    "       try:\n",
    "         bus_postcode=node.find(\"PostCode\").text if node is not None else None\n",
    "         bus_address=bus_address+\" \"+bus_postcode+ \" \"+\"UK\" \n",
    "       except:\n",
    "          bus_postcode=(\"missing\")    \n",
    "       bus_type=node.find(\"BusinessType\").text if node is not None else None\n",
    "       bus_name=node.find(\"BusinessName\").text  if node is not None else None\n",
    "       bus_type_id=node.find(\"BusinessTypeID\").text if node is not None else None\n",
    "       try:\n",
    "         bus_postcode=node.find(\"PostCode\").text if node is not None else None\n",
    "       except:\n",
    "          bus_postcode=(\"missing\") \n",
    "       rows.append({\"LocalAuthorityBusinessID\": bus_laid, \"BusinessName\": bus_name, \"BusinessAddress\": bus_address,\n",
    "                  \"BusinessType\": bus_type,\"BusinessTypeID\":bus_type_id, \"Postcode\": bus_postcode, \"RatingValue\": bus_rate})\n",
    "\n",
    "food_outlets_df = pd.DataFrame(rows, columns = df_cols)\n",
    "\n",
    "food_outlets_df.head(n=5)"
   ]
  },
  {
   "cell_type": "code",
   "execution_count": 120,
   "metadata": {},
   "outputs": [
    {
     "data": {
      "text/html": [
       "<div>\n",
       "<style scoped>\n",
       "    .dataframe tbody tr th:only-of-type {\n",
       "        vertical-align: middle;\n",
       "    }\n",
       "\n",
       "    .dataframe tbody tr th {\n",
       "        vertical-align: top;\n",
       "    }\n",
       "\n",
       "    .dataframe thead th {\n",
       "        text-align: right;\n",
       "    }\n",
       "</style>\n",
       "<table border=\"1\" class=\"dataframe\">\n",
       "  <thead>\n",
       "    <tr style=\"text-align: right;\">\n",
       "      <th></th>\n",
       "      <th>BusinessType</th>\n",
       "    </tr>\n",
       "  </thead>\n",
       "  <tbody>\n",
       "    <tr>\n",
       "      <th>Restaurant/Cafe/Canteen</th>\n",
       "      <td>775</td>\n",
       "    </tr>\n",
       "    <tr>\n",
       "      <th>Retailers - other</th>\n",
       "      <td>549</td>\n",
       "    </tr>\n",
       "    <tr>\n",
       "      <th>Takeaway/sandwich shop</th>\n",
       "      <td>539</td>\n",
       "    </tr>\n",
       "    <tr>\n",
       "      <th>Pub/bar/nightclub</th>\n",
       "      <td>272</td>\n",
       "    </tr>\n",
       "    <tr>\n",
       "      <th>Hospitals/Childcare/Caring Premises</th>\n",
       "      <td>97</td>\n",
       "    </tr>\n",
       "    <tr>\n",
       "      <th>School/college/university</th>\n",
       "      <td>56</td>\n",
       "    </tr>\n",
       "    <tr>\n",
       "      <th>Other catering premises</th>\n",
       "      <td>52</td>\n",
       "    </tr>\n",
       "    <tr>\n",
       "      <th>Hotel/bed &amp; breakfast/guest house</th>\n",
       "      <td>50</td>\n",
       "    </tr>\n",
       "    <tr>\n",
       "      <th>Retailers - supermarkets/hypermarkets</th>\n",
       "      <td>49</td>\n",
       "    </tr>\n",
       "    <tr>\n",
       "      <th>Mobile caterer</th>\n",
       "      <td>32</td>\n",
       "    </tr>\n",
       "    <tr>\n",
       "      <th>Distributors/Transporters</th>\n",
       "      <td>19</td>\n",
       "    </tr>\n",
       "    <tr>\n",
       "      <th>Manufacturers/packers</th>\n",
       "      <td>9</td>\n",
       "    </tr>\n",
       "  </tbody>\n",
       "</table>\n",
       "</div>"
      ],
      "text/plain": [
       "                                       BusinessType\n",
       "Restaurant/Cafe/Canteen                         775\n",
       "Retailers - other                               549\n",
       "Takeaway/sandwich shop                          539\n",
       "Pub/bar/nightclub                               272\n",
       "Hospitals/Childcare/Caring Premises              97\n",
       "School/college/university                        56\n",
       "Other catering premises                          52\n",
       "Hotel/bed & breakfast/guest house                50\n",
       "Retailers - supermarkets/hypermarkets            49\n",
       "Mobile caterer                                   32\n",
       "Distributors/Transporters                        19\n",
       "Manufacturers/packers                             9"
      ]
     },
     "execution_count": 120,
     "metadata": {},
     "output_type": "execute_result"
    }
   ],
   "source": [
    "pd.DataFrame(food_outlets_df[\"BusinessType\"].value_counts())"
   ]
  },
  {
   "cell_type": "code",
   "execution_count": 57,
   "metadata": {},
   "outputs": [],
   "source": [
    "# Applies the geocoding function\n",
    "\n",
    "food_outlets_df[\"lat\"] , food_outlets_df[\"lon\"] = zip(*food_outlets_df[\"BusinessAddress\"].apply(long_lat_func))"
   ]
  },
  {
   "cell_type": "code",
   "execution_count": 58,
   "metadata": {},
   "outputs": [
    {
     "data": {
      "text/html": [
       "<div>\n",
       "<style scoped>\n",
       "    .dataframe tbody tr th:only-of-type {\n",
       "        vertical-align: middle;\n",
       "    }\n",
       "\n",
       "    .dataframe tbody tr th {\n",
       "        vertical-align: top;\n",
       "    }\n",
       "\n",
       "    .dataframe thead th {\n",
       "        text-align: right;\n",
       "    }\n",
       "</style>\n",
       "<table border=\"1\" class=\"dataframe\">\n",
       "  <thead>\n",
       "    <tr style=\"text-align: right;\">\n",
       "      <th></th>\n",
       "      <th>LocalAuthorityBusinessID</th>\n",
       "      <th>BusinessName</th>\n",
       "      <th>BusinessAddress</th>\n",
       "      <th>BusinessType</th>\n",
       "      <th>BusinessTypeID</th>\n",
       "      <th>RatingKey</th>\n",
       "      <th>Postcode</th>\n",
       "      <th>lat</th>\n",
       "      <th>lon</th>\n",
       "    </tr>\n",
       "  </thead>\n",
       "  <tbody>\n",
       "    <tr>\n",
       "      <th>0</th>\n",
       "      <td>78306</td>\n",
       "      <td>@Desserts</td>\n",
       "      <td>17, Central Shopping Centre Ranelagh Street L...</td>\n",
       "      <td>Takeaway/sandwich shop</td>\n",
       "      <td>7844</td>\n",
       "      <td>NaN</td>\n",
       "      <td>L1 1QE</td>\n",
       "      <td>None</td>\n",
       "      <td>None</td>\n",
       "    </tr>\n",
       "    <tr>\n",
       "      <th>1</th>\n",
       "      <td>71900</td>\n",
       "      <td>08 Burger Unit</td>\n",
       "      <td></td>\n",
       "      <td>Mobile caterer</td>\n",
       "      <td>7846</td>\n",
       "      <td>NaN</td>\n",
       "      <td>missing</td>\n",
       "      <td>None</td>\n",
       "      <td>None</td>\n",
       "    </tr>\n",
       "    <tr>\n",
       "      <th>2</th>\n",
       "      <td>79155</td>\n",
       "      <td>109 Allerton</td>\n",
       "      <td>109 Allerton Road Mossley Hill Liverpool L18 ...</td>\n",
       "      <td>Restaurant/Cafe/Canteen</td>\n",
       "      <td>1</td>\n",
       "      <td>NaN</td>\n",
       "      <td>L18 2DD</td>\n",
       "      <td>53.3818</td>\n",
       "      <td>-2.90548</td>\n",
       "    </tr>\n",
       "    <tr>\n",
       "      <th>3</th>\n",
       "      <td>78939</td>\n",
       "      <td>14forty</td>\n",
       "      <td>100 Wavertree Boulevard Liverpool L7 9PT UK</td>\n",
       "      <td>Restaurant/Cafe/Canteen</td>\n",
       "      <td>1</td>\n",
       "      <td>NaN</td>\n",
       "      <td>L7 9PT</td>\n",
       "      <td>53.4057</td>\n",
       "      <td>-2.93406</td>\n",
       "    </tr>\n",
       "    <tr>\n",
       "      <th>4</th>\n",
       "      <td>PI/000272350</td>\n",
       "      <td>2 in 1</td>\n",
       "      <td>54 Durning Road Liverpool L7 5NG UK</td>\n",
       "      <td>Takeaway/sandwich shop</td>\n",
       "      <td>7844</td>\n",
       "      <td>NaN</td>\n",
       "      <td>L7 5NG</td>\n",
       "      <td>53.4064</td>\n",
       "      <td>-2.94843</td>\n",
       "    </tr>\n",
       "  </tbody>\n",
       "</table>\n",
       "</div>"
      ],
      "text/plain": [
       "  LocalAuthorityBusinessID    BusinessName  \\\n",
       "0                    78306       @Desserts   \n",
       "1                    71900  08 Burger Unit   \n",
       "2                    79155    109 Allerton   \n",
       "3                    78939         14forty   \n",
       "4             PI/000272350          2 in 1   \n",
       "\n",
       "                                     BusinessAddress             BusinessType  \\\n",
       "0   17, Central Shopping Centre Ranelagh Street L...   Takeaway/sandwich shop   \n",
       "1                                                              Mobile caterer   \n",
       "2   109 Allerton Road Mossley Hill Liverpool L18 ...  Restaurant/Cafe/Canteen   \n",
       "3        100 Wavertree Boulevard Liverpool L7 9PT UK  Restaurant/Cafe/Canteen   \n",
       "4                54 Durning Road Liverpool L7 5NG UK   Takeaway/sandwich shop   \n",
       "\n",
       "  BusinessTypeID  RatingKey Postcode      lat      lon  \n",
       "0           7844        NaN   L1 1QE     None     None  \n",
       "1           7846        NaN  missing     None     None  \n",
       "2              1        NaN  L18 2DD  53.3818 -2.90548  \n",
       "3              1        NaN   L7 9PT  53.4057 -2.93406  \n",
       "4           7844        NaN   L7 5NG  53.4064 -2.94843  "
      ]
     },
     "execution_count": 58,
     "metadata": {},
     "output_type": "execute_result"
    }
   ],
   "source": [
    "food_outlets_df.head(n=5)"
   ]
  },
  {
   "cell_type": "code",
   "execution_count": 128,
   "metadata": {},
   "outputs": [],
   "source": [
    "# Subsets to drop the na terms\n",
    "food_outlets_df=food_outlets_df.dropna(subset=['lon', 'lat'])\n",
    "\n",
    "\n",
    "# Subsets to drop the na terms\n",
    "food_outlets_df =food_outlets_df[food_outlets_df[\"Postcode\"]!=\"Missing\"]\n",
    "\n",
    "#Converts the longitude and latitude as points data to give the geocoordinates for the data frame\n",
    "geometry = [Point(xy) for xy in zip(food_outlets_df['lon'], food_outlets_df['lat'])]\n",
    "\n",
    "\n",
    "\n",
    "# Create a GeoDataFrame from art and verify the type\n",
    "food_outlets_geo = gpd.GeoDataFrame(food_outlets_df, crs = 'epsg:4326' , geometry = geometry)\n",
    "\n",
    "\n",
    "# Write out the food outlets location as a geojson for use in the mapbox map\n",
    "food_outlets_geo.to_file(\"Food_outlets_geo.geojson\", driver='GeoJSON')\n",
    "\n"
   ]
  },
  {
   "cell_type": "code",
   "execution_count": 129,
   "metadata": {},
   "outputs": [],
   "source": [
    "map.add_data(data=food_outlets_geo, name=\"food_outlets\")"
   ]
  },
  {
   "cell_type": "markdown",
   "metadata": {},
   "source": [
    "# Adding in the foodbank information"
   ]
  },
  {
   "cell_type": "code",
   "execution_count": 60,
   "metadata": {},
   "outputs": [],
   "source": [
    "foodbanks=pd.read_csv(\"Liverpool_foodbanks_geocode_input.csv\")"
   ]
  },
  {
   "cell_type": "code",
   "execution_count": 107,
   "metadata": {},
   "outputs": [
    {
     "data": {
      "text/html": [
       "<div>\n",
       "<style scoped>\n",
       "    .dataframe tbody tr th:only-of-type {\n",
       "        vertical-align: middle;\n",
       "    }\n",
       "\n",
       "    .dataframe tbody tr th {\n",
       "        vertical-align: top;\n",
       "    }\n",
       "\n",
       "    .dataframe thead th {\n",
       "        text-align: right;\n",
       "    }\n",
       "</style>\n",
       "<table border=\"1\" class=\"dataframe\">\n",
       "  <thead>\n",
       "    <tr style=\"text-align: right;\">\n",
       "      <th></th>\n",
       "      <th>Category</th>\n",
       "      <th>Company Name</th>\n",
       "      <th>Region</th>\n",
       "      <th>name</th>\n",
       "      <th>Street Address</th>\n",
       "      <th>City</th>\n",
       "      <th>State</th>\n",
       "      <th>Zip</th>\n",
       "      <th>Mobile Number</th>\n",
       "      <th>Website Address</th>\n",
       "      <th>Email</th>\n",
       "      <th>Reviews Average</th>\n",
       "      <th>Count Of Review</th>\n",
       "      <th>full_address</th>\n",
       "      <th>lat</th>\n",
       "      <th>lon</th>\n",
       "      <th>geometry</th>\n",
       "    </tr>\n",
       "  </thead>\n",
       "  <tbody>\n",
       "    <tr>\n",
       "      <th>3</th>\n",
       "      <td>Non-profit organisation</td>\n",
       "      <td>Micah Liverpool</td>\n",
       "      <td>Liverpool</td>\n",
       "      <td>St James Mt  Liverpool L1 7AZ</td>\n",
       "      <td>St James MtLiverpool L1 7AZ</td>\n",
       "      <td>St James Mt</td>\n",
       "      <td>LiverpoolL1</td>\n",
       "      <td>7.0</td>\n",
       "      <td>0151 702 7206</td>\n",
       "      <td>micahliverpool.com</td>\n",
       "      <td>hannah.clarke@liverpool.org.uk</td>\n",
       "      <td>NaN</td>\n",
       "      <td>NaN</td>\n",
       "      <td>St James Mt  Liverpool L1 7AZ, Liverpool, UK</td>\n",
       "      <td>53.3943</td>\n",
       "      <td>-2.97483</td>\n",
       "      <td>POINT (-2.97483 53.39430)</td>\n",
       "    </tr>\n",
       "    <tr>\n",
       "      <th>5</th>\n",
       "      <td>Cathedral</td>\n",
       "      <td>Liverpool Cathedral</td>\n",
       "      <td>Liverpool</td>\n",
       "      <td>St James Mt  Liverpool L1 7AZ</td>\n",
       "      <td>St James MtLiverpool L1 7AZ</td>\n",
       "      <td>St James Mt</td>\n",
       "      <td>LiverpoolL1</td>\n",
       "      <td>7.0</td>\n",
       "      <td>0151 709 6271</td>\n",
       "      <td>liverpoolcathedral.org.uk</td>\n",
       "      <td>jenny.moran@liverpoolcathedral.org.uk</td>\n",
       "      <td>4.7</td>\n",
       "      <td>8503.0</td>\n",
       "      <td>St James Mt  Liverpool L1 7AZ, Liverpool, UK</td>\n",
       "      <td>53.3943</td>\n",
       "      <td>-2.97483</td>\n",
       "      <td>POINT (-2.97483 53.39430)</td>\n",
       "    </tr>\n",
       "    <tr>\n",
       "      <th>6</th>\n",
       "      <td>Non-profit organisation</td>\n",
       "      <td>British Red Cross Liverpool</td>\n",
       "      <td>Liverpool</td>\n",
       "      <td>36 Renshaw St  Liverpool L1 4EF</td>\n",
       "      <td>36 Renshaw StLiverpool L1 4EF</td>\n",
       "      <td>36 Renshaw St</td>\n",
       "      <td>LiverpoolL1</td>\n",
       "      <td>4.0</td>\n",
       "      <td>0151 707 1074</td>\n",
       "      <td>redcross.org.uk</td>\n",
       "      <td>contactus@redcross.org.uk.</td>\n",
       "      <td>5.0</td>\n",
       "      <td>1.0</td>\n",
       "      <td>36 Renshaw St  Liverpool L1 4EF, Liverpool, UK</td>\n",
       "      <td>53.4039</td>\n",
       "      <td>-2.9773</td>\n",
       "      <td>POINT (-2.97730 53.40389)</td>\n",
       "    </tr>\n",
       "  </tbody>\n",
       "</table>\n",
       "</div>"
      ],
      "text/plain": [
       "                  Category                 Company Name     Region  \\\n",
       "3  Non-profit organisation              Micah Liverpool  Liverpool   \n",
       "5                Cathedral          Liverpool Cathedral  Liverpool   \n",
       "6  Non-profit organisation  British Red Cross Liverpool  Liverpool   \n",
       "\n",
       "                              name                 Street Address  \\\n",
       "3    St James Mt  Liverpool L1 7AZ    St James MtLiverpool L1 7AZ   \n",
       "5    St James Mt  Liverpool L1 7AZ    St James MtLiverpool L1 7AZ   \n",
       "6  36 Renshaw St  Liverpool L1 4EF  36 Renshaw StLiverpool L1 4EF   \n",
       "\n",
       "            City        State  Zip  Mobile Number            Website Address  \\\n",
       "3    St James Mt  LiverpoolL1  7.0  0151 702 7206         micahliverpool.com   \n",
       "5    St James Mt  LiverpoolL1  7.0  0151 709 6271  liverpoolcathedral.org.uk   \n",
       "6  36 Renshaw St  LiverpoolL1  4.0  0151 707 1074            redcross.org.uk   \n",
       "\n",
       "                                   Email  Reviews Average  Count Of Review  \\\n",
       "3         hannah.clarke@liverpool.org.uk              NaN              NaN   \n",
       "5  jenny.moran@liverpoolcathedral.org.uk              4.7           8503.0   \n",
       "6             contactus@redcross.org.uk.              5.0              1.0   \n",
       "\n",
       "                                     full_address      lat      lon  \\\n",
       "3    St James Mt  Liverpool L1 7AZ, Liverpool, UK  53.3943 -2.97483   \n",
       "5    St James Mt  Liverpool L1 7AZ, Liverpool, UK  53.3943 -2.97483   \n",
       "6  36 Renshaw St  Liverpool L1 4EF, Liverpool, UK  53.4039  -2.9773   \n",
       "\n",
       "                    geometry  \n",
       "3  POINT (-2.97483 53.39430)  \n",
       "5  POINT (-2.97483 53.39430)  \n",
       "6  POINT (-2.97730 53.40389)  "
      ]
     },
     "execution_count": 107,
     "metadata": {},
     "output_type": "execute_result"
    }
   ],
   "source": [
    "foodbanks.head(n=3)"
   ]
  },
  {
   "cell_type": "code",
   "execution_count": 62,
   "metadata": {},
   "outputs": [],
   "source": [
    "# Adjust the coding of the address to make the geocoding more accurate\n",
    "\n",
    "def complete_address(x):\n",
    "  if \"Bootle\" in x:\n",
    "    return x+\", Bootle, UK\"\n",
    "  if \"Waterloo\" in x:\n",
    "    return x+\", Waterloo, UK\"\n",
    "  if \"Speke\" in x:\n",
    "    return x+\", Speke, UK\"\n",
    "  else:\n",
    "    return x+\", Liverpool, UK\"\n",
    "\n",
    "\n",
    "foodbanks[\"full_address\"]=foodbanks[\"name\"].apply(complete_address)"
   ]
  },
  {
   "cell_type": "code",
   "execution_count": 63,
   "metadata": {},
   "outputs": [],
   "source": [
    "# Applies the geocoding function\n",
    "\n",
    "foodbanks[\"lat\"] , foodbanks[\"lon\"] = zip(*foodbanks[\"full_address\"].apply(long_lat_func))"
   ]
  },
  {
   "cell_type": "code",
   "execution_count": 108,
   "metadata": {},
   "outputs": [],
   "source": [
    "# Subsets to drop the na terms\n",
    "foodbanks=foodbanks.dropna(subset=['lon', 'lat'])\n",
    "\n",
    "# Foodbanks drop Bootle\n",
    "foodbanks=foodbanks[~foodbanks[\"full_address\"].str.contains('Bootle')]\n",
    "\n",
    "#Converts the longitude and latitude as points data to give the geocoordinates for the data frame\n",
    "geometry = [Point(xy) for xy in zip(foodbanks['lon'], foodbanks['lat'])]\n",
    "\n",
    "\n",
    "\n",
    "# Create a GeoDataFrame from art and verify the type\n",
    "foodbanks_geo = gpd.GeoDataFrame(foodbanks, crs = 'epsg:4326' , geometry = geometry)\n",
    "\n",
    "\n",
    "# Foodbanks drop Bootle\n",
    "\n"
   ]
  },
  {
   "cell_type": "code",
   "execution_count": 109,
   "metadata": {},
   "outputs": [],
   "source": [
    "# Selects the points that fall within Liverpool\n",
    "\n",
    "PointInPoly = gpd.sjoin(foodbanks_geo,df, how='left',op='within') "
   ]
  },
  {
   "cell_type": "code",
   "execution_count": 115,
   "metadata": {},
   "outputs": [
    {
     "name": "stdout",
     "output_type": "stream",
     "text": [
      "\u001b[34mFood_map\u001b[m\u001b[m\r\n",
      "Geocoder.R\r\n",
      "Liverpool.geojson\r\n",
      "Liverpool.html\r\n",
      "Liverpool.xml\r\n",
      "Liverpool2.html\r\n",
      "Liverpool3.html\r\n",
      "Liverpool4.html\r\n",
      "Liverpool_14_12_20.html\r\n",
      "Liverpool_15_12_20.html\r\n",
      "Liverpool_foodbanks.csv\r\n",
      "Liverpool_foodbanks_geocode_input.csv\r\n",
      "Liverpool_foodbanks_geocode_input.csv_geocoded5.rds\r\n",
      "Liverpool_foodbanks_geocode_input.xlsm\r\n",
      "Liverpool_map.ipynb\r\n",
      "\u001b[34mcitymap_env\u001b[m\u001b[m\r\n",
      "config.py\r\n",
      "hex_config.py\r\n",
      "requirements.txt\r\n",
      "test_map.html\r\n"
     ]
    }
   ],
   "source": [
    "! ls"
   ]
  },
  {
   "cell_type": "code",
   "execution_count": 116,
   "metadata": {},
   "outputs": [],
   "source": [
    "# Create a GeoDataFrame from art and verify the type\n",
    "foodbanks_geo = gpd.GeoDataFrame(PointInPoly, crs = 'epsg:4326' , geometry = geometry)\n",
    "\n",
    "\n",
    "foodbanks_geo.to_file(\"Foodbanks.geojson\", driver='GeoJSON')"
   ]
  },
  {
   "cell_type": "code",
   "execution_count": 106,
   "metadata": {},
   "outputs": [
    {
     "ename": "AttributeError",
     "evalue": "'str' object has no attribute '_geom'",
     "output_type": "error",
     "traceback": [
      "\u001b[0;31m---------------------------------------------------------------------------\u001b[0m",
      "\u001b[0;31mAttributeError\u001b[0m                            Traceback (most recent call last)",
      "\u001b[0;32m<ipython-input-106-510ed8af313e>\u001b[0m in \u001b[0;36m<module>\u001b[0;34m\u001b[0m\n\u001b[0;32m----> 1\u001b[0;31m \u001b[0mmap\u001b[0m\u001b[0;34m.\u001b[0m\u001b[0madd_data\u001b[0m\u001b[0;34m(\u001b[0m\u001b[0mdata\u001b[0m\u001b[0;34m=\u001b[0m\u001b[0mfoodbanks_geo\u001b[0m\u001b[0;34m,\u001b[0m \u001b[0mname\u001b[0m\u001b[0;34m=\u001b[0m\u001b[0;34m\"foodbanks\"\u001b[0m\u001b[0;34m)\u001b[0m\u001b[0;34m\u001b[0m\u001b[0;34m\u001b[0m\u001b[0m\n\u001b[0m\u001b[1;32m      2\u001b[0m \u001b[0;34m\u001b[0m\u001b[0m\n\u001b[1;32m      3\u001b[0m \u001b[0mfoodbanks_geo\u001b[0m\u001b[0;34m.\u001b[0m\u001b[0mto_file\u001b[0m\u001b[0;34m(\u001b[0m\u001b[0;34m\"/Food_map/Data/Foodbanks.geojson\"\u001b[0m\u001b[0;34m,\u001b[0m \u001b[0mdriver\u001b[0m\u001b[0;34m=\u001b[0m\u001b[0;34m'GeoJSON'\u001b[0m\u001b[0;34m)\u001b[0m\u001b[0;34m\u001b[0m\u001b[0;34m\u001b[0m\u001b[0m\n",
      "\u001b[0;32m/opt/anaconda3/envs/citymap_env/lib/python3.7/site-packages/keplergl/keplergl.py\u001b[0m in \u001b[0;36madd_data\u001b[0;34m(self, data, name)\u001b[0m\n\u001b[1;32m    130\u001b[0m         '''\n\u001b[1;32m    131\u001b[0m \u001b[0;34m\u001b[0m\u001b[0m\n\u001b[0;32m--> 132\u001b[0;31m         \u001b[0mnormalized\u001b[0m \u001b[0;34m=\u001b[0m \u001b[0m_normalize_data\u001b[0m\u001b[0;34m(\u001b[0m\u001b[0mdata\u001b[0m\u001b[0;34m)\u001b[0m\u001b[0;34m\u001b[0m\u001b[0;34m\u001b[0m\u001b[0m\n\u001b[0m\u001b[1;32m    133\u001b[0m         \u001b[0mcopy\u001b[0m \u001b[0;34m=\u001b[0m \u001b[0mself\u001b[0m\u001b[0;34m.\u001b[0m\u001b[0mdata\u001b[0m\u001b[0;34m.\u001b[0m\u001b[0mcopy\u001b[0m\u001b[0;34m(\u001b[0m\u001b[0;34m)\u001b[0m\u001b[0;34m\u001b[0m\u001b[0;34m\u001b[0m\u001b[0m\n\u001b[1;32m    134\u001b[0m         \u001b[0mcopy\u001b[0m\u001b[0;34m.\u001b[0m\u001b[0mupdate\u001b[0m\u001b[0;34m(\u001b[0m\u001b[0;34m{\u001b[0m\u001b[0mname\u001b[0m\u001b[0;34m:\u001b[0m \u001b[0mnormalized\u001b[0m\u001b[0;34m}\u001b[0m\u001b[0;34m)\u001b[0m\u001b[0;34m\u001b[0m\u001b[0;34m\u001b[0m\u001b[0m\n",
      "\u001b[0;32m/opt/anaconda3/envs/citymap_env/lib/python3.7/site-packages/keplergl/keplergl.py\u001b[0m in \u001b[0;36m_normalize_data\u001b[0;34m(data)\u001b[0m\n\u001b[1;32m     44\u001b[0m \u001b[0;32mdef\u001b[0m \u001b[0m_normalize_data\u001b[0m\u001b[0;34m(\u001b[0m\u001b[0mdata\u001b[0m\u001b[0;34m)\u001b[0m\u001b[0;34m:\u001b[0m\u001b[0;34m\u001b[0m\u001b[0;34m\u001b[0m\u001b[0m\n\u001b[1;32m     45\u001b[0m     \u001b[0;32mif\u001b[0m \u001b[0misinstance\u001b[0m\u001b[0;34m(\u001b[0m\u001b[0mdata\u001b[0m\u001b[0;34m,\u001b[0m \u001b[0mpd\u001b[0m\u001b[0;34m.\u001b[0m\u001b[0mDataFrame\u001b[0m\u001b[0;34m)\u001b[0m\u001b[0;34m:\u001b[0m\u001b[0;34m\u001b[0m\u001b[0;34m\u001b[0m\u001b[0m\n\u001b[0;32m---> 46\u001b[0;31m         \u001b[0;32mreturn\u001b[0m \u001b[0m_gdf_to_dict\u001b[0m\u001b[0;34m(\u001b[0m\u001b[0mdata\u001b[0m\u001b[0;34m)\u001b[0m \u001b[0;32mif\u001b[0m \u001b[0misinstance\u001b[0m\u001b[0;34m(\u001b[0m\u001b[0mdata\u001b[0m\u001b[0;34m,\u001b[0m \u001b[0mgeopandas\u001b[0m\u001b[0;34m.\u001b[0m\u001b[0mGeoDataFrame\u001b[0m\u001b[0;34m)\u001b[0m \u001b[0;32melse\u001b[0m \u001b[0m_df_to_dict\u001b[0m\u001b[0;34m(\u001b[0m\u001b[0mdata\u001b[0m\u001b[0;34m)\u001b[0m\u001b[0;34m\u001b[0m\u001b[0;34m\u001b[0m\u001b[0m\n\u001b[0m\u001b[1;32m     47\u001b[0m     \u001b[0;32mreturn\u001b[0m \u001b[0mdata\u001b[0m\u001b[0;34m\u001b[0m\u001b[0;34m\u001b[0m\u001b[0m\n\u001b[1;32m     48\u001b[0m \u001b[0;34m\u001b[0m\u001b[0m\n",
      "\u001b[0;32m/opt/anaconda3/envs/citymap_env/lib/python3.7/site-packages/keplergl/keplergl.py\u001b[0m in \u001b[0;36m_gdf_to_dict\u001b[0;34m(gdf)\u001b[0m\n\u001b[1;32m     38\u001b[0m     \u001b[0mdf\u001b[0m \u001b[0;34m=\u001b[0m \u001b[0mpd\u001b[0m\u001b[0;34m.\u001b[0m\u001b[0mDataFrame\u001b[0m\u001b[0;34m(\u001b[0m\u001b[0mgdf\u001b[0m\u001b[0;34m)\u001b[0m\u001b[0;34m\u001b[0m\u001b[0;34m\u001b[0m\u001b[0m\n\u001b[1;32m     39\u001b[0m     \u001b[0;31m# convert geometry to wkt\u001b[0m\u001b[0;34m\u001b[0m\u001b[0;34m\u001b[0m\u001b[0;34m\u001b[0m\u001b[0m\n\u001b[0;32m---> 40\u001b[0;31m     \u001b[0mdf\u001b[0m\u001b[0;34m[\u001b[0m\u001b[0mname\u001b[0m\u001b[0;34m]\u001b[0m \u001b[0;34m=\u001b[0m \u001b[0mdf\u001b[0m\u001b[0;34m.\u001b[0m\u001b[0mgeometry\u001b[0m\u001b[0;34m.\u001b[0m\u001b[0mapply\u001b[0m\u001b[0;34m(\u001b[0m\u001b[0;32mlambda\u001b[0m \u001b[0mx\u001b[0m\u001b[0;34m:\u001b[0m \u001b[0mshapely\u001b[0m\u001b[0;34m.\u001b[0m\u001b[0mwkt\u001b[0m\u001b[0;34m.\u001b[0m\u001b[0mdumps\u001b[0m\u001b[0;34m(\u001b[0m\u001b[0mx\u001b[0m\u001b[0;34m)\u001b[0m\u001b[0;34m)\u001b[0m\u001b[0;34m\u001b[0m\u001b[0;34m\u001b[0m\u001b[0m\n\u001b[0m\u001b[1;32m     41\u001b[0m \u001b[0;34m\u001b[0m\u001b[0m\n\u001b[1;32m     42\u001b[0m     \u001b[0;32mreturn\u001b[0m \u001b[0m_df_to_dict\u001b[0m\u001b[0;34m(\u001b[0m\u001b[0mdf\u001b[0m\u001b[0;34m)\u001b[0m\u001b[0;34m\u001b[0m\u001b[0;34m\u001b[0m\u001b[0m\n",
      "\u001b[0;32m/opt/anaconda3/envs/citymap_env/lib/python3.7/site-packages/pandas/core/series.py\u001b[0m in \u001b[0;36mapply\u001b[0;34m(self, func, convert_dtype, args, **kwds)\u001b[0m\n\u001b[1;32m   4198\u001b[0m             \u001b[0;32melse\u001b[0m\u001b[0;34m:\u001b[0m\u001b[0;34m\u001b[0m\u001b[0;34m\u001b[0m\u001b[0m\n\u001b[1;32m   4199\u001b[0m                 \u001b[0mvalues\u001b[0m \u001b[0;34m=\u001b[0m \u001b[0mself\u001b[0m\u001b[0;34m.\u001b[0m\u001b[0mastype\u001b[0m\u001b[0;34m(\u001b[0m\u001b[0mobject\u001b[0m\u001b[0;34m)\u001b[0m\u001b[0;34m.\u001b[0m\u001b[0m_values\u001b[0m\u001b[0;34m\u001b[0m\u001b[0;34m\u001b[0m\u001b[0m\n\u001b[0;32m-> 4200\u001b[0;31m                 \u001b[0mmapped\u001b[0m \u001b[0;34m=\u001b[0m \u001b[0mlib\u001b[0m\u001b[0;34m.\u001b[0m\u001b[0mmap_infer\u001b[0m\u001b[0;34m(\u001b[0m\u001b[0mvalues\u001b[0m\u001b[0;34m,\u001b[0m \u001b[0mf\u001b[0m\u001b[0;34m,\u001b[0m \u001b[0mconvert\u001b[0m\u001b[0;34m=\u001b[0m\u001b[0mconvert_dtype\u001b[0m\u001b[0;34m)\u001b[0m\u001b[0;34m\u001b[0m\u001b[0;34m\u001b[0m\u001b[0m\n\u001b[0m\u001b[1;32m   4201\u001b[0m \u001b[0;34m\u001b[0m\u001b[0m\n\u001b[1;32m   4202\u001b[0m         \u001b[0;32mif\u001b[0m \u001b[0mlen\u001b[0m\u001b[0;34m(\u001b[0m\u001b[0mmapped\u001b[0m\u001b[0;34m)\u001b[0m \u001b[0;32mand\u001b[0m \u001b[0misinstance\u001b[0m\u001b[0;34m(\u001b[0m\u001b[0mmapped\u001b[0m\u001b[0;34m[\u001b[0m\u001b[0;36m0\u001b[0m\u001b[0;34m]\u001b[0m\u001b[0;34m,\u001b[0m \u001b[0mSeries\u001b[0m\u001b[0;34m)\u001b[0m\u001b[0;34m:\u001b[0m\u001b[0;34m\u001b[0m\u001b[0;34m\u001b[0m\u001b[0m\n",
      "\u001b[0;32mpandas/_libs/lib.pyx\u001b[0m in \u001b[0;36mpandas._libs.lib.map_infer\u001b[0;34m()\u001b[0m\n",
      "\u001b[0;32m/opt/anaconda3/envs/citymap_env/lib/python3.7/site-packages/keplergl/keplergl.py\u001b[0m in \u001b[0;36m<lambda>\u001b[0;34m(x)\u001b[0m\n\u001b[1;32m     38\u001b[0m     \u001b[0mdf\u001b[0m \u001b[0;34m=\u001b[0m \u001b[0mpd\u001b[0m\u001b[0;34m.\u001b[0m\u001b[0mDataFrame\u001b[0m\u001b[0;34m(\u001b[0m\u001b[0mgdf\u001b[0m\u001b[0;34m)\u001b[0m\u001b[0;34m\u001b[0m\u001b[0;34m\u001b[0m\u001b[0m\n\u001b[1;32m     39\u001b[0m     \u001b[0;31m# convert geometry to wkt\u001b[0m\u001b[0;34m\u001b[0m\u001b[0;34m\u001b[0m\u001b[0;34m\u001b[0m\u001b[0m\n\u001b[0;32m---> 40\u001b[0;31m     \u001b[0mdf\u001b[0m\u001b[0;34m[\u001b[0m\u001b[0mname\u001b[0m\u001b[0;34m]\u001b[0m \u001b[0;34m=\u001b[0m \u001b[0mdf\u001b[0m\u001b[0;34m.\u001b[0m\u001b[0mgeometry\u001b[0m\u001b[0;34m.\u001b[0m\u001b[0mapply\u001b[0m\u001b[0;34m(\u001b[0m\u001b[0;32mlambda\u001b[0m \u001b[0mx\u001b[0m\u001b[0;34m:\u001b[0m \u001b[0mshapely\u001b[0m\u001b[0;34m.\u001b[0m\u001b[0mwkt\u001b[0m\u001b[0;34m.\u001b[0m\u001b[0mdumps\u001b[0m\u001b[0;34m(\u001b[0m\u001b[0mx\u001b[0m\u001b[0;34m)\u001b[0m\u001b[0;34m)\u001b[0m\u001b[0;34m\u001b[0m\u001b[0;34m\u001b[0m\u001b[0m\n\u001b[0m\u001b[1;32m     41\u001b[0m \u001b[0;34m\u001b[0m\u001b[0m\n\u001b[1;32m     42\u001b[0m     \u001b[0;32mreturn\u001b[0m \u001b[0m_df_to_dict\u001b[0m\u001b[0;34m(\u001b[0m\u001b[0mdf\u001b[0m\u001b[0;34m)\u001b[0m\u001b[0;34m\u001b[0m\u001b[0;34m\u001b[0m\u001b[0m\n",
      "\u001b[0;32m/opt/anaconda3/envs/citymap_env/lib/python3.7/site-packages/shapely/wkt.py\u001b[0m in \u001b[0;36mdumps\u001b[0;34m(ob, trim, **kw)\u001b[0m\n\u001b[1;32m     60\u001b[0m     \u001b[0minput\u001b[0m \u001b[0mgeometry\u001b[0m \u001b[0;32mas\u001b[0m \u001b[0mWKT\u001b[0m \u001b[0mstring\u001b[0m\u001b[0;34m\u001b[0m\u001b[0;34m\u001b[0m\u001b[0m\n\u001b[1;32m     61\u001b[0m     \"\"\"\n\u001b[0;32m---> 62\u001b[0;31m     \u001b[0;32mreturn\u001b[0m \u001b[0mgeos\u001b[0m\u001b[0;34m.\u001b[0m\u001b[0mWKTWriter\u001b[0m\u001b[0;34m(\u001b[0m\u001b[0mgeos\u001b[0m\u001b[0;34m.\u001b[0m\u001b[0mlgeos\u001b[0m\u001b[0;34m,\u001b[0m \u001b[0mtrim\u001b[0m\u001b[0;34m=\u001b[0m\u001b[0mtrim\u001b[0m\u001b[0;34m,\u001b[0m \u001b[0;34m**\u001b[0m\u001b[0mkw\u001b[0m\u001b[0;34m)\u001b[0m\u001b[0;34m.\u001b[0m\u001b[0mwrite\u001b[0m\u001b[0;34m(\u001b[0m\u001b[0mob\u001b[0m\u001b[0;34m)\u001b[0m\u001b[0;34m\u001b[0m\u001b[0;34m\u001b[0m\u001b[0m\n\u001b[0m\u001b[1;32m     63\u001b[0m \u001b[0;34m\u001b[0m\u001b[0m\n\u001b[1;32m     64\u001b[0m \u001b[0;34m\u001b[0m\u001b[0m\n",
      "\u001b[0;32m/opt/anaconda3/envs/citymap_env/lib/python3.7/site-packages/shapely/geos.py\u001b[0m in \u001b[0;36mwrite\u001b[0;34m(self, geom)\u001b[0m\n\u001b[1;32m    395\u001b[0m     \u001b[0;32mdef\u001b[0m \u001b[0mwrite\u001b[0m\u001b[0;34m(\u001b[0m\u001b[0mself\u001b[0m\u001b[0;34m,\u001b[0m \u001b[0mgeom\u001b[0m\u001b[0;34m)\u001b[0m\u001b[0;34m:\u001b[0m\u001b[0;34m\u001b[0m\u001b[0;34m\u001b[0m\u001b[0m\n\u001b[1;32m    396\u001b[0m         \u001b[0;34m\"\"\"Returns WKT string for geometry\"\"\"\u001b[0m\u001b[0;34m\u001b[0m\u001b[0;34m\u001b[0m\u001b[0m\n\u001b[0;32m--> 397\u001b[0;31m         \u001b[0;32mif\u001b[0m \u001b[0mgeom\u001b[0m \u001b[0;32mis\u001b[0m \u001b[0;32mNone\u001b[0m \u001b[0;32mor\u001b[0m \u001b[0mgeom\u001b[0m\u001b[0;34m.\u001b[0m\u001b[0m_geom\u001b[0m \u001b[0;32mis\u001b[0m \u001b[0;32mNone\u001b[0m\u001b[0;34m:\u001b[0m\u001b[0;34m\u001b[0m\u001b[0;34m\u001b[0m\u001b[0m\n\u001b[0m\u001b[1;32m    398\u001b[0m             \u001b[0;32mraise\u001b[0m \u001b[0mValueError\u001b[0m\u001b[0;34m(\u001b[0m\u001b[0;34m\"Null geometry supports no operations\"\u001b[0m\u001b[0;34m)\u001b[0m\u001b[0;34m\u001b[0m\u001b[0;34m\u001b[0m\u001b[0m\n\u001b[1;32m    399\u001b[0m         \u001b[0mresult\u001b[0m \u001b[0;34m=\u001b[0m \u001b[0mself\u001b[0m\u001b[0;34m.\u001b[0m\u001b[0m_lgeos\u001b[0m\u001b[0;34m.\u001b[0m\u001b[0mGEOSWKTWriter_write\u001b[0m\u001b[0;34m(\u001b[0m\u001b[0mself\u001b[0m\u001b[0;34m.\u001b[0m\u001b[0m_writer\u001b[0m\u001b[0;34m,\u001b[0m \u001b[0mgeom\u001b[0m\u001b[0;34m.\u001b[0m\u001b[0m_geom\u001b[0m\u001b[0;34m)\u001b[0m\u001b[0;34m\u001b[0m\u001b[0;34m\u001b[0m\u001b[0m\n",
      "\u001b[0;31mAttributeError\u001b[0m: 'str' object has no attribute '_geom'"
     ]
    }
   ],
   "source": [
    "map.add_data(data=foodbanks_geo, name=\"foodbanks\")\n",
    "\n"
   ]
  },
  {
   "cell_type": "markdown",
   "metadata": {},
   "source": [
    "# The map"
   ]
  },
  {
   "cell_type": "code",
   "execution_count": 68,
   "metadata": {
    "scrolled": true
   },
   "outputs": [
    {
     "data": {
      "application/vnd.jupyter.widget-view+json": {
       "model_id": "a79e6283f07948bcad024151f8612515",
       "version_major": 2,
       "version_minor": 0
      },
      "text/plain": [
       "KeplerGl(data={'Liverpool_lsoa': {'index': [0, 1, 2, 3, 4, 5, 6, 7, 8, 9, 10, 11, 12, 13, 14, 15, 16, 17, 18, …"
      ]
     },
     "metadata": {},
     "output_type": "display_data"
    }
   ],
   "source": [
    "map"
   ]
  },
  {
   "cell_type": "code",
   "execution_count": 41,
   "metadata": {},
   "outputs": [
    {
     "name": "stdout",
     "output_type": "stream",
     "text": [
      "Map saved to Liverpool_15_12_20.html!\n"
     ]
    }
   ],
   "source": [
    "# Saves the map to an html format that can be rendered in the browser\n",
    "map.save_to_html(file_name='Liverpool_15_12_20.html')"
   ]
  },
  {
   "cell_type": "code",
   "execution_count": null,
   "metadata": {},
   "outputs": [],
   "source": [
    "The map can also be served as a flask app\n",
    "\n",
    "from flask import Flask\n",
    "\n",
    "app = Flask(__name__)\n",
    "\n",
    "@app.route('/')\n",
    "def index():\n",
    "    return map_1._repr_html_()\n",
    "\n",
    "if __name__ == '__main__':\n",
    "    app.run(debug=True)"
   ]
  },
  {
   "cell_type": "code",
   "execution_count": 42,
   "metadata": {},
   "outputs": [],
   "source": [
    "# The code below is a way to speed up the geocoding"
   ]
  },
  {
   "cell_type": "code",
   "execution_count": null,
   "metadata": {},
   "outputs": [],
   "source": [
    "import multiprocessing\n",
    "from geopy.geocoders import Nominatim\n",
    "geocoder = Nominatim()\n",
    "def worker(address):\n",
    "    return geocoder.geocode(address)\n",
    "pool = multiprocessing.Pool(processes=multiprocessing.cpu_count())\n",
    "addresses = ['58 Victoria Embankment, London', 'Ferry Road, Edinburgh']\n",
    "locations = pool.map(worker, addresses)"
   ]
  }
 ],
 "metadata": {
  "kernelspec": {
   "display_name": "Python 3",
   "language": "python",
   "name": "python3"
  },
  "language_info": {
   "codemirror_mode": {
    "name": "ipython",
    "version": 3
   },
   "file_extension": ".py",
   "mimetype": "text/x-python",
   "name": "python",
   "nbconvert_exporter": "python",
   "pygments_lexer": "ipython3",
   "version": "3.7.7"
  }
 },
 "nbformat": 4,
 "nbformat_minor": 4
}

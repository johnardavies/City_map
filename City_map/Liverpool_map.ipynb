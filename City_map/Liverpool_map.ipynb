{
 "cells": [
  {
   "cell_type": "code",
   "execution_count": 124,
   "metadata": {},
   "outputs": [],
   "source": [
    "import pandas as pd #importing the Pandas Library as 'pd'\n",
    "from keplergl import KeplerGl #importing KeplerGl\n",
    "import geopandas as gpd #importing geopandas as 'gpd'\n",
    "from shapely.geometry import Point"
   ]
  },
  {
   "cell_type": "code",
   "execution_count": 62,
   "metadata": {},
   "outputs": [
    {
     "name": "stdout",
     "output_type": "stream",
     "text": [
      "User Guide: https://docs.kepler.gl/docs/keplergl-jupyter\n"
     ]
    }
   ],
   "source": [
    "\n",
    "map = KeplerGl(height=600, width=800)"
   ]
  },
  {
   "cell_type": "code",
   "execution_count": 63,
   "metadata": {},
   "outputs": [],
   "source": [
    "filename = \"Liverpool.geojson\"\n",
    "file = open(filename)\n",
    "df = gpd.read_file(file)"
   ]
  },
  {
   "cell_type": "code",
   "execution_count": 64,
   "metadata": {},
   "outputs": [],
   "source": [
    "map.add_data(data=df, name=\"Construction\")\n",
    "\n"
   ]
  },
  {
   "cell_type": "code",
   "execution_count": 84,
   "metadata": {
    "scrolled": true
   },
   "outputs": [
    {
     "name": "stdout",
     "output_type": "stream",
     "text": [
      "Requirement already satisfied: geopy in /opt/anaconda3/envs/citymap_env/lib/python3.7/site-packages (2.0.0)\n",
      "Requirement already satisfied: geographiclib<2,>=1.49 in /opt/anaconda3/envs/citymap_env/lib/python3.7/site-packages (from geopy) (1.50)\n"
     ]
    }
   ],
   "source": [
    "! pip3 install geopy"
   ]
  },
  {
   "cell_type": "code",
   "execution_count": 65,
   "metadata": {},
   "outputs": [],
   "source": [
    "# Notes on terms\n",
    "# Select a type polygon\n",
    "# Select geo as geometry\n",
    "# Strokes refer to the width of the line\n",
    "# Fill color changes the color of the polygons\n",
    "# Edit the 'new layer' to change the names of the\n",
    "# Press the eye icon in the exported widget to bring the layer to the top\n"
   ]
  },
  {
   "cell_type": "markdown",
   "metadata": {},
   "source": [
    "# Adding in the foodbank information"
   ]
  },
  {
   "cell_type": "code",
   "execution_count": 43,
   "metadata": {},
   "outputs": [
    {
     "name": "stdout",
     "output_type": "stream",
     "text": [
      "(40.741059199999995, -73.98964162240998)\n"
     ]
    }
   ],
   "source": [
    "from geopy.geocoders import Nominatim\n",
    "geolocator = Nominatim(user_agent=\"Liverpool_analysis\")\n",
    "location = geolocator.geocode(\"175 5th Avenue NYC\")\n",
    "print((location.latitude, location.longitude))"
   ]
  },
  {
   "cell_type": "code",
   "execution_count": 136,
   "metadata": {},
   "outputs": [],
   "source": [
    "foodbanks=pd.read_csv(\"Liverpool_foodbanks_geocode_input.csv\")"
   ]
  },
  {
   "cell_type": "code",
   "execution_count": 137,
   "metadata": {},
   "outputs": [
    {
     "data": {
      "text/html": [
       "<div>\n",
       "<style scoped>\n",
       "    .dataframe tbody tr th:only-of-type {\n",
       "        vertical-align: middle;\n",
       "    }\n",
       "\n",
       "    .dataframe tbody tr th {\n",
       "        vertical-align: top;\n",
       "    }\n",
       "\n",
       "    .dataframe thead th {\n",
       "        text-align: right;\n",
       "    }\n",
       "</style>\n",
       "<table border=\"1\" class=\"dataframe\">\n",
       "  <thead>\n",
       "    <tr style=\"text-align: right;\">\n",
       "      <th></th>\n",
       "      <th>Category</th>\n",
       "      <th>Company Name</th>\n",
       "      <th>Region</th>\n",
       "      <th>name</th>\n",
       "      <th>Street Address</th>\n",
       "      <th>City</th>\n",
       "      <th>State</th>\n",
       "      <th>Zip</th>\n",
       "      <th>Mobile Number</th>\n",
       "      <th>Website Address</th>\n",
       "      <th>Email</th>\n",
       "      <th>Reviews Average</th>\n",
       "      <th>Count Of Review</th>\n",
       "    </tr>\n",
       "  </thead>\n",
       "  <tbody>\n",
       "    <tr>\n",
       "      <th>0</th>\n",
       "      <td>Charity</td>\n",
       "      <td>The Trussell Trust Food Bank</td>\n",
       "      <td>Liverpool</td>\n",
       "      <td>60 Peel Rd  Bootle L20 4RW</td>\n",
       "      <td>60 Peel RdBootle L20 4RW</td>\n",
       "      <td>60 Peel Rd</td>\n",
       "      <td>BootleL20</td>\n",
       "      <td>4.0</td>\n",
       "      <td>0151 933 1300</td>\n",
       "      <td>trusselltrust.org</td>\n",
       "      <td>reg_with_fund_reg@2x.png</td>\n",
       "      <td>5.0</td>\n",
       "      <td>5.0</td>\n",
       "    </tr>\n",
       "    <tr>\n",
       "      <th>1</th>\n",
       "      <td>Foodbank</td>\n",
       "      <td>Christ Church Community Centre</td>\n",
       "      <td>Liverpool</td>\n",
       "      <td>8 Oxford Rd  Bootle L20 9HW</td>\n",
       "      <td>8 Oxford RdBootle L20 9HW</td>\n",
       "      <td>8 Oxford Rd</td>\n",
       "      <td>BootleL20</td>\n",
       "      <td>9.0</td>\n",
       "      <td>NaN</td>\n",
       "      <td>NaN</td>\n",
       "      <td>NaN</td>\n",
       "      <td>NaN</td>\n",
       "      <td>NaN</td>\n",
       "    </tr>\n",
       "    <tr>\n",
       "      <th>2</th>\n",
       "      <td>Church</td>\n",
       "      <td>St Oswalds Church Centre</td>\n",
       "      <td>Liverpool</td>\n",
       "      <td>Ronald Ross Ave  Netherton   Bootle L30 5RD</td>\n",
       "      <td>Ronald Ross AveNetherton</td>\n",
       "      <td>Liverpool</td>\n",
       "      <td>BootleL30</td>\n",
       "      <td>5.0</td>\n",
       "      <td>0151 521 6002</td>\n",
       "      <td>NaN</td>\n",
       "      <td>NaN</td>\n",
       "      <td>3.0</td>\n",
       "      <td>3.0</td>\n",
       "    </tr>\n",
       "  </tbody>\n",
       "</table>\n",
       "</div>"
      ],
      "text/plain": [
       "   Category                    Company Name     Region  \\\n",
       "0   Charity    The Trussell Trust Food Bank  Liverpool   \n",
       "1  Foodbank  Christ Church Community Centre  Liverpool   \n",
       "2    Church        St Oswalds Church Centre  Liverpool   \n",
       "\n",
       "                                          name             Street Address  \\\n",
       "0                   60 Peel Rd  Bootle L20 4RW   60 Peel RdBootle L20 4RW   \n",
       "1                  8 Oxford Rd  Bootle L20 9HW  8 Oxford RdBootle L20 9HW   \n",
       "2  Ronald Ross Ave  Netherton   Bootle L30 5RD   Ronald Ross AveNetherton   \n",
       "\n",
       "          City      State  Zip  Mobile Number    Website Address  \\\n",
       "0   60 Peel Rd  BootleL20  4.0  0151 933 1300  trusselltrust.org   \n",
       "1  8 Oxford Rd  BootleL20  9.0            NaN                NaN   \n",
       "2    Liverpool  BootleL30  5.0  0151 521 6002                NaN   \n",
       "\n",
       "                      Email  Reviews Average  Count Of Review  \n",
       "0  reg_with_fund_reg@2x.png              5.0              5.0  \n",
       "1                       NaN              NaN              NaN  \n",
       "2                       NaN              3.0              3.0  "
      ]
     },
     "execution_count": 137,
     "metadata": {},
     "output_type": "execute_result"
    }
   ],
   "source": [
    "foodbanks.head(n=3)"
   ]
  },
  {
   "cell_type": "code",
   "execution_count": 138,
   "metadata": {},
   "outputs": [],
   "source": [
    "def complete_address(x):\n",
    "  if \"Bootle\" in x:\n",
    "    return x+\", Bootle, UK\"\n",
    "  if \"Waterloo\" in x:\n",
    "    return x+\", Waterloo, UK\"\n",
    "  if \"Speke\" in x:\n",
    "    return x+\", Speke, UK\"\n",
    "  else:\n",
    "    return x+\", Liverpool, UK\"\n",
    "\n",
    "\n",
    "foodbanks[\"full_address\"]=foodbanks[\"name\"].apply(complete_address)"
   ]
  },
  {
   "cell_type": "code",
   "execution_count": 139,
   "metadata": {},
   "outputs": [],
   "source": [
    "def long_lat_func(x):\n",
    "  try:\n",
    "    location = geolocator.geocode(str(x))\n",
    "    # Parse the tuple\n",
    "    return location.latitude , location.longitude\n",
    "  except:\n",
    "    return None, None"
   ]
  },
  {
   "cell_type": "code",
   "execution_count": 140,
   "metadata": {},
   "outputs": [],
   "source": [
    "foodbanks[\"lat\"] , foodbanks[\"lon\"] = zip(*foodbanks[\"full_address\"].apply(long_lat_func))"
   ]
  },
  {
   "cell_type": "code",
   "execution_count": 141,
   "metadata": {},
   "outputs": [],
   "source": [
    "# Subsets to drop the na terms\n",
    "foodbanks=foodbanks.dropna(subset=['lon', 'lat'])\n",
    "\n",
    "#Converts the longitude and latitude as points data to give the geocoordinates for the data frame\n",
    "geometry = [Point(xy) for xy in zip(foodbanks['lon'], foodbanks['lat'])]\n",
    "\n",
    "\n",
    "\n",
    "# Create a GeoDataFrame from art and verify the type\n",
    "foodbanks_geo = gpd.GeoDataFrame(foodbanks, crs = 'epsg:4326' , geometry = geometry)"
   ]
  },
  {
   "cell_type": "code",
   "execution_count": 142,
   "metadata": {},
   "outputs": [
    {
     "data": {
      "text/plain": [
       "<AxesSubplot:>"
      ]
     },
     "execution_count": 142,
     "metadata": {},
     "output_type": "execute_result"
    },
    {
     "data": {
      "image/png": "[encoded data removed]",
      "text/plain": [
       "<Figure size 432x288 with 1 Axes>"
      ]
     },
     "metadata": {
      "needs_background": "light"
     },
     "output_type": "display_data"
    }
   ],
   "source": [
    "foodbanks_geo.plot()"
   ]
  },
  {
   "cell_type": "code",
   "execution_count": 143,
   "metadata": {},
   "outputs": [],
   "source": [
    "map.add_data(data=foodbanks_geo, name=\"foodbanks\")"
   ]
  },
  {
   "cell_type": "markdown",
   "metadata": {},
   "source": [
    "# The map"
   ]
  },
  {
   "cell_type": "code",
   "execution_count": 145,
   "metadata": {
    "scrolled": true
   },
   "outputs": [
    {
     "data": {
      "application/vnd.jupyter.widget-view+json": {
       "model_id": "b52c592810e14cb3b089ca665924b4d3",
       "version_major": 2,
       "version_minor": 0
      },
      "text/plain": [
       "KeplerGl(config={'version': 'v1', 'config': {'visState': {'filters': [], 'layers': [{'id': 'ep4jadu', 'type': …"
      ]
     },
     "metadata": {},
     "output_type": "display_data"
    }
   ],
   "source": [
    "map"
   ]
  },
  {
   "cell_type": "code",
   "execution_count": 36,
   "metadata": {},
   "outputs": [
    {
     "name": "stdout",
     "output_type": "stream",
     "text": [
      "Map saved to Liverpool4.html!\n"
     ]
    }
   ],
   "source": [
    "# This format saved the configuration file\n",
    "map.save_to_html(file_name='Liverpool4.html')"
   ]
  },
  {
   "cell_type": "code",
   "execution_count": null,
   "metadata": {},
   "outputs": [],
   "source": [
    "The map can also be served as a flask app\n",
    "\n",
    "from flask import Flask\n",
    "\n",
    "app = Flask(__name__)\n",
    "\n",
    "@app.route('/')\n",
    "def index():\n",
    "    return map_1._repr_html_()\n",
    "\n",
    "if __name__ == '__main__':\n",
    "    app.run(debug=True)"
   ]
  }
 ],
 "metadata": {
  "kernelspec": {
   "display_name": "Python 3",
   "language": "python",
   "name": "python3"
  },
  "language_info": {
   "codemirror_mode": {
    "name": "ipython",
    "version": 3
   },
   "file_extension": ".py",
   "mimetype": "text/x-python",
   "name": "python",
   "nbconvert_exporter": "python",
   "pygments_lexer": "ipython3",
   "version": "3.7.7"
  }
 },
 "nbformat": 4,
 "nbformat_minor": 4
}

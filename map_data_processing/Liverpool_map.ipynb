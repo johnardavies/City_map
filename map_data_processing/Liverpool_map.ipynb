{
 "cells": [
  {
   "cell_type": "code",
   "execution_count": null,
   "metadata": {},
   "outputs": [],
   "source": [
    "import pandas as pd #importing the Pandas Library as 'pd'\n",
    "import numpy as np\n",
    "\n",
    "#Imports spatial libraries\n",
    "from keplergl import KeplerGl #importing KeplerGl\n",
    "import geopandas as gpd #importing geopandas as 'gpd'\n",
    "from shapely.geometry import Point\n",
    "from shapely.geometry import box\n",
    "import shapely.wkt\n",
    "from geopy.geocoders import Nominatim # Imports the geopy for the geocoding\n",
    "import geojson\n",
    "from geojson import Point, Feature, FeatureCollection, dump\n",
    "\n",
    "import xml.etree.ElementTree as ET\n",
    "\n",
    "import requests\n",
    "\n",
    "import re\n",
    "\n",
    "from time import time"
   ]
  },
  {
   "cell_type": "markdown",
   "metadata": {},
   "source": [
    "This map reads in data on (from the Data folder)\n",
    "1. Lower super output areas and the index of multiple deprivation\n",
    "2. Food outlets data\n",
    "3. The location of foodbanks\n",
    "4. Ward area data of Liverpool and associated data\n",
    "\n",
    "and processes it \n",
    "- geocoding of point data - of food banks and food outlets \n",
    "- matches the ward area data to the ward shape files\n",
    "- Converts the layer data (lsoas and wards) into qunitiles\n",
    "\n",
    "\n",
    "and writes it out as four geojson files to the Out folder in the Data folder"
   ]
  },
  {
   "cell_type": "markdown",
   "metadata": {},
   "source": [
    "# Reads in the Liverpool Lower Super Output Areas (lsoas) with index of multiple deprivation and creates quintile variables"
   ]
  },
  {
   "cell_type": "code",
   "execution_count": null,
   "metadata": {},
   "outputs": [],
   "source": [
    "filename = \"Data/Liverpool_lsoa.geojson\"\n",
    "file = open(filename)\n",
    "Liverpool_lsoa = gpd.read_file(file)"
   ]
  },
  {
   "cell_type": "code",
   "execution_count": null,
   "metadata": {},
   "outputs": [],
   "source": [
    "list(Liverpool_lsoa)"
   ]
  },
  {
   "cell_type": "code",
   "execution_count": null,
   "metadata": {},
   "outputs": [],
   "source": [
    "metrics=['Total population: mid 2015 (excluding prisoners)',\n",
    " 'Dependent Children aged 0-15: mid 2015 (excluding prisoners)',\n",
    " 'Population aged 16-59: mid 2015 (excluding prisoners)',\n",
    " 'Older population aged 60 and over: mid 2015 (excluding prisoners)',\n",
    " 'Working age population 18-59/64: for use with Employment Deprivation Domain (excluding prisoners)',\n",
    "    'Income Domain numerator',\n",
    " 'Income Deprivation Affecting Children Index (IDACI) numerator',\n",
    " 'Income Deprivation Affecting Older People Index (IDAOPI) numerator',\n",
    " 'Employment Domain numerator',\n",
    " 'Staying on in education post 16 indicator',\n",
    " 'Entry to higher education indicator',\n",
    " 'Adult skills and English language proficiency indicator',\n",
    " 'Years of potential life lost indicator',\n",
    " 'Comparative illness and disability ratio indicator',\n",
    " 'Acute morbidity indicator',\n",
    " 'Mood and anxiety disorders indicator',\n",
    " 'Road distance to a post office indicator (km)',\n",
    " 'Road distance to a primary school indicator (km)',\n",
    " 'Road distance to general store or supermarket indicator (km)',\n",
    " 'Road distance to a GP surgery indicator (km)',\n",
    " 'Household overcrowding indicator',\n",
    " 'Homelessness indicator (rate per 1000 households)',\n",
    " 'Owner-occupation affordability (component of housing affordability indicator)',\n",
    " 'Private rental affordability (component of housing affordability indicator)',\n",
    " 'Housing affordability indicator',\n",
    " 'Housing in poor condition indicator',\n",
    " 'Houses without central heating indicator',\n",
    " 'Road traffic accidents indicator',\n",
    " 'Nitrogen dioxide (component of air quality indicator)',\n",
    " 'Benzene (component of air quality indicator)',\n",
    " 'Sulphur dioxide (component of air quality indicator)',\n",
    " 'Particulates (component of air quality indicator)',\n",
    " 'Air quality indicator',\n",
    "        ]"
   ]
  },
  {
   "cell_type": "code",
   "execution_count": null,
   "metadata": {},
   "outputs": [],
   "source": [
    "# Reads in the etl data \n",
    "\n",
    "efdi_engwales=pd.read_csv(\"Data/efdi_england.csv\")"
   ]
  },
  {
   "cell_type": "code",
   "execution_count": null,
   "metadata": {},
   "outputs": [],
   "source": [
    "efdi_engwales.head(n=5)"
   ]
  },
  {
   "cell_type": "code",
   "execution_count": null,
   "metadata": {},
   "outputs": [],
   "source": [
    "#Merge with the lsoa data\n",
    "Liverpool_lsoa=Liverpool_lsoa.merge(efdi_engwales, how='inner', left_on='LSOA code (2011)', right_on='LSOA or DZ')"
   ]
  },
  {
   "cell_type": "code",
   "execution_count": null,
   "metadata": {},
   "outputs": [],
   "source": [
    "Liverpool_lsoa.head()"
   ]
  },
  {
   "cell_type": "code",
   "execution_count": null,
   "metadata": {},
   "outputs": [],
   "source": [
    "Liverpool_lsoa = gpd.GeoDataFrame(Liverpool_lsoa, geometry=Liverpool_lsoa[\"geometry\"], crs = 'WGS84' )"
   ]
  },
  {
   "cell_type": "code",
   "execution_count": null,
   "metadata": {},
   "outputs": [],
   "source": [
    "# Adds data to the Kepler map\n",
    "#map.add_data(\"Liverpool_lsoa\", name=\"Liverpool_lsoa\")"
   ]
  },
  {
   "cell_type": "code",
   "execution_count": null,
   "metadata": {},
   "outputs": [],
   "source": [
    "metrics=metrics+['Score']"
   ]
  },
  {
   "cell_type": "code",
   "execution_count": null,
   "metadata": {},
   "outputs": [],
   "source": [
    "data_ranked=pd.DataFrame(Liverpool_lsoa[\"LSOA code (2011)\"])\n",
    "\n",
    "for measure in metrics:\n",
    "# rank(pct=True), gives the percentile mul is multiply by 5\n",
    "   new_col=pd.DataFrame(np.ceil(Liverpool_lsoa[measure].rank(pct=True).mul(5)).astype('Int64')).rename(columns={measure: measure+\"_rank\"})\n",
    "   data_ranked=pd.concat([data_ranked, new_col], axis=1)\n",
    "\n",
    "\n",
    "\n",
    "#Liverpool_lsoa=gç(lsoa)\n",
    "#Merge with the lsoa data\n",
    "\n",
    "\n",
    "Liverpool_lsoa=Liverpool_lsoa.merge(data_ranked, how='inner', left_on='LSOA code (2011)', right_on='LSOA code (2011)')\n",
    "#Liverpool_lsoa=Liverpool_lsoa.merge(data_ranked,how='inner', on='LSOA code (2011)')\n",
    "\n",
    "#Liverpool_lsoa = gpd.GeoDataFrame(Liverpool_lsoa, geometry=Liverpool_lsoa[\"geometry\"], crs ='4326')\n",
    "\n",
    "\n"
   ]
  },
  {
   "cell_type": "code",
   "execution_count": null,
   "metadata": {},
   "outputs": [],
   "source": [
    "data_ranked"
   ]
  },
  {
   "cell_type": "code",
   "execution_count": null,
   "metadata": {},
   "outputs": [],
   "source": [
    "# Write out the food outlets location as a geojson for use in the mapbox map\n",
    "Liverpool_lsoa.to_file(\"Data/Out/Liverpool_lsoa.geojson\", driver='GeoJSON')"
   ]
  },
  {
   "cell_type": "code",
   "execution_count": null,
   "metadata": {
    "scrolled": true
   },
   "outputs": [],
   "source": [
    "list(Liverpool_lsoa)"
   ]
  },
  {
   "cell_type": "markdown",
   "metadata": {},
   "source": [
    "# The geocoding function (to code the food outlets data and the food banks data)"
   ]
  },
  {
   "cell_type": "code",
   "execution_count": null,
   "metadata": {},
   "outputs": [],
   "source": [
    "# Initialises the geocoding\n",
    "geolocator = Nominatim(user_agent=\"Liverpool_analysis\")\n"
   ]
  },
  {
   "cell_type": "code",
   "execution_count": null,
   "metadata": {},
   "outputs": [],
   "source": [
    "# The geocoding function  x is the full address, y is the postcode as a back up if the address fails\n",
    "\n",
    "def long_lat_func(x, y):\n",
    "  try:\n",
    "    location = geolocator.geocode(str(x))\n",
    "    # Parse the tuple\n",
    "    return location.latitude , location.longitude\n",
    "  except:\n",
    "    # Something causing an issue on the address, try on the postcode if it exists\n",
    "   if y!=\"missing\":\n",
    "     try:\n",
    "        location = geolocator.geocode(str(y))\n",
    "        return location.latitude , location.longitude\n",
    "     # Postcode geocode fails return nothing\n",
    "     except:\n",
    "      return None, None\n",
    "  # If no postcode at all just return nothing\n",
    "   else:\n",
    "      return None, None"
   ]
  },
  {
   "cell_type": "code",
   "execution_count": null,
   "metadata": {},
   "outputs": [],
   "source": [
    "# Code to speed up the geocoding\n",
    "'''\n",
    "\n",
    "\n",
    "import multiprocessing from geopy.geocoders \n",
    "import Nominatim geocoder = Nominatim() \n",
    "def worker(address):\n",
    "    return geocoder.geocode(address) \n",
    "\n",
    "pool = multiprocessing.Pool(processes=multiprocessing.cpu_count()) \n",
    "addresses = ['58 Victoria Embankment, London', 'Ferry Road, Edinburgh'] l\n",
    "ocations = pool.map(worker, addresses) '''"
   ]
  },
  {
   "cell_type": "markdown",
   "metadata": {},
   "source": [
    "# Adding in food outlet locations"
   ]
  },
  {
   "cell_type": "code",
   "execution_count": null,
   "metadata": {},
   "outputs": [],
   "source": [
    "# Example of the xml that is being parsed\n",
    "'''\n",
    "<Header>\n",
    "    <ExtractDate>2021-01-27</ExtractDate>\n",
    "    <ItemCount>3959</ItemCount>\n",
    "    <ReturnCode>Success</ReturnCode>\n",
    "  </Header>\n",
    "  <EstablishmentCollection>\n",
    "    <EstablishmentDetail>\n",
    "      <FHRSID>1264123</FHRSID>\n",
    "      <LocalAuthorityBusinessID>78306</LocalAuthorityBusinessID>\n",
    "      <BusinessName>@Desserts</BusinessName>\n",
    "      <BusinessType>Takeaway/sandwich shop</BusinessType>\n",
    "      <BusinessTypeID>7844</BusinessTypeID>\n",
    "      <AddressLine1>17, Central Shopping Centre Ranelagh Street</AddressLine1>\n",
    "      <AddressLine3>Liverpool</AddressLine3>\n",
    "      <AddressLine4>Liverpool</AddressLine4>\n",
    "      <PostCode>L1 1QE</PostCode>\n",
    "      <RatingValue>AwaitingInspection</RatingValue>\n",
    "      <RatingKey>fhrs_awaitinginspection_en-GB</RatingKey>\n",
    "      <RatingDate xsi:nil=\"true\"/>\n",
    "      <LocalAuthorityCode>414</LocalAuthorityCode>\n",
    "      <LocalAuthorityName>Liverpool</LocalAuthorityName>\n",
    "      <LocalAuthorityWebSite>http://www.liverpool.gov.uk</LocalAuthorityWebSite>\n",
    "      <LocalAuthorityEmailAddress>environmental.health@liverpool.gov.uk</LocalAuthorityEmailAddress>\n",
    "      <Scores/>\n",
    "      <SchemeType>FHRS</SchemeType>\n",
    "      <NewRatingPending>False</NewRatingPending>\n",
    "      <Geocode>\n",
    "      \n",
    "      '''"
   ]
  },
  {
   "cell_type": "code",
   "execution_count": null,
   "metadata": {},
   "outputs": [],
   "source": [
    "tree = ET.parse('Data/Liverpool_food_outlets.xml')\n",
    "root = tree.getroot()\n",
    "\n",
    "\n",
    "\n",
    "df_cols = [\"LocalAuthorityBusinessID\", \"BusinessName\",\"BusinessAddress\",\"BusinessType\",\"BusinessTypeID\", \"RatingKey\", \"Postcode\"]\n",
    "rows = []\n",
    "\n",
    "food_outlets_df  = pd.DataFrame(rows, columns = df_cols)\n",
    "\n",
    "# Some of this parsing could be tidied up\n",
    "for neighbor in root.iter('EstablishmentCollection'):\n",
    "   for node in neighbor:\n",
    "       bus_laid=node.find(\"LocalAuthorityBusinessID\").text  if node is not None else None\n",
    "       bus_rate=node.find(\"RatingKey\").text if node is not None else None  \n",
    "       bus_address=\"\"\n",
    "       try:\n",
    "        bus_address=bus_address+\" \"+node.find('AddressLine1').text \n",
    "       except:\n",
    "        bus_address=bus_address     \n",
    "       try:\n",
    "        bus_address=bus_address+\" \"+node.find('AddressLine2').text \n",
    "       except:\n",
    "        bus_address=bus_address \n",
    "       try:\n",
    "        bus_address=bus_address+\" \"+node.find('AddressLine3').text \n",
    "       except:\n",
    "        bus_address=bus_address\n",
    "       try:\n",
    "         bus_postcode=node.find(\"PostCode\").text if node is not None else None\n",
    "         bus_address=bus_address+\" \"+bus_postcode+ \" \"+\"UK\" \n",
    "       except:\n",
    "          bus_postcode=(\"missing\")    \n",
    "       bus_type=node.find(\"BusinessType\").text if node is not None else None\n",
    "       bus_name=node.find(\"BusinessName\").text  if node is not None else None\n",
    "       bus_type_id=node.find(\"BusinessTypeID\").text if node is not None else None\n",
    "       try:\n",
    "         bus_postcode=node.find(\"PostCode\").text if node is not None else None\n",
    "       except:\n",
    "          bus_postcode=(\"missing\") \n",
    "       rows.append({\"LocalAuthorityBusinessID\": bus_laid, \"BusinessName\": bus_name, \"BusinessAddress\": bus_address,\n",
    "                  \"BusinessType\": bus_type,\"BusinessTypeID\":bus_type_id, \"Postcode\": bus_postcode, \"RatingValue\": bus_rate})\n",
    "\n",
    "food_outlets_df = pd.DataFrame(rows, columns = df_cols)\n",
    "\n",
    "food_outlets_df.head(n=5)"
   ]
  },
  {
   "cell_type": "code",
   "execution_count": null,
   "metadata": {},
   "outputs": [],
   "source": [
    "pd.DataFrame(food_outlets_df[\"BusinessType\"].value_counts())"
   ]
  },
  {
   "cell_type": "code",
   "execution_count": null,
   "metadata": {},
   "outputs": [],
   "source": [
    "# Functions to tidy up the address information that is proving hard to geocode\n",
    "\n",
    "# Remove text before the first comma as this seems typically to be the name of the business which is throwing the geocoder\n",
    "def trim_name(x):\n",
    "    return re.sub(r'^.*?,', '',x)\n",
    "\n",
    "# Remove text before supermarket (case insensitive) as this is typically the name of a supermarket\n",
    "def trim_supermarket(x):\n",
    "    return re.sub(r'^.*?supermarket', '',x, flags=re.IGNORECASE)"
   ]
  },
  {
   "cell_type": "code",
   "execution_count": null,
   "metadata": {},
   "outputs": [],
   "source": [
    "\n",
    "# Strips the text before the column as this seems to almost always be a name that is throwing the geocoding\n",
    "food_outlets_df[\"BusinessAddress_clean\"]=food_outlets_df[\"BusinessAddress\"].apply(lambda x: trim_name(x))\n",
    "# Remove the text that appears before the word supermarket as this also seems to call\n",
    "food_outlets_df[\"BusinessAddress_clean\"]=food_outlets_df[\"BusinessAddress_clean\"].apply(lambda x:trim_supermarket(x))\n",
    "\n",
    "# Create a new postcode variable that makes it clear we are talking about Liverpool in the UK to avoid confusing geocoder\n",
    "food_outlets_df[\"Postcode_clean\"]=np.where(food_outlets_df[\"Postcode\"]!=\"missing\",food_outlets_df[\"Postcode\"]+\", Liverpool, UK\"\n",
    "                                           , food_outlets_df[\"Postcode\"])\n"
   ]
  },
  {
   "cell_type": "code",
   "execution_count": null,
   "metadata": {},
   "outputs": [],
   "source": [
    "\n",
    "# Applies the geocoding function takes about 40 minutes uses the cleaned business address with the postcode as a backup\n",
    "\n",
    "start_time = time()\n",
    "food_outlets_df[\"lat\"] , food_outlets_df[\"lon\"] = zip(*food_outlets_df.apply(lambda x: long_lat_func(x[\"BusinessAddress_clean\"], x[\"Postcode_clean\"]), axis=1))\n",
    "\n",
    "time_elapsed= round((time() - start_time)/60,2)\n",
    "print(\"--- %s minutes ---\" % (time_elapsed))"
   ]
  },
  {
   "cell_type": "code",
   "execution_count": null,
   "metadata": {},
   "outputs": [],
   "source": [
    "food_outlets_df.head(n=5)"
   ]
  },
  {
   "cell_type": "code",
   "execution_count": null,
   "metadata": {},
   "outputs": [],
   "source": [
    "# Subsets to drop the na terms\n",
    "food_outlets_df_clean=food_outlets_df.dropna(subset=['lon', 'lat'])\n",
    "\n",
    "\n",
    "#Converts the longitude and latitude as points data to give the geocoordinates for the data frame\n",
    "geometry = [Point(xy) for xy in zip(food_outlets_df_clean['lon'], food_outlets_df_clean['lat'])]\n",
    "\n",
    "\n",
    "# Create a GeoDataFrame from the food_outlets\n",
    "food_outlets_geo = gpd.GeoDataFrame(food_outlets_df_clean, crs = 'epsg:4326' , geometry = geometry)\n",
    "\n",
    "\n",
    "# Select the food outlets that fall within Liverpool lsoas\n",
    "food_outlets_geo = gpd.overlay(food_outlets_geo , Liverpool_lsoa, how='intersection')\n",
    "\n",
    "# Split out supermarkets as it makes it easier to handle them\n",
    "\n",
    "# Split out the supermarkets\n",
    "supermarkets =food_outlets_geo[food_outlets_geo[\"BusinessType\"]=='Retailers - supermarkets/hypermarkets']\n",
    "                                                          \n",
    "# Other food outlets\n",
    "food_outlets_geo=food_outlets_geo[food_outlets_geo[\"BusinessType\"]!='Retailers - supermarkets/hypermarkets']\n",
    "\n"
   ]
  },
  {
   "cell_type": "code",
   "execution_count": null,
   "metadata": {},
   "outputs": [],
   "source": [
    "supermarkets.plot()"
   ]
  },
  {
   "cell_type": "code",
   "execution_count": null,
   "metadata": {},
   "outputs": [],
   "source": [
    "supermarkets\n"
   ]
  },
  {
   "cell_type": "code",
   "execution_count": null,
   "metadata": {},
   "outputs": [],
   "source": [
    "food_outlets_geo.plot()"
   ]
  },
  {
   "cell_type": "code",
   "execution_count": null,
   "metadata": {},
   "outputs": [],
   "source": [
    "# Write out the food outlets location as a geojson for use in the mapbox map\n",
    "food_outlets_geo.to_file(\"Data/Out/Food_outlets_geo.geojson\", driver='GeoJSON')\n",
    "\n",
    "# Write out the supermarkets\n",
    "supermarkets.to_file(\"Data/Out/Supermarkets_geo.geojson\", driver='GeoJSON')"
   ]
  },
  {
   "cell_type": "markdown",
   "metadata": {},
   "source": [
    "# Adding in food initatives"
   ]
  },
  {
   "cell_type": "code",
   "execution_count": null,
   "metadata": {},
   "outputs": [],
   "source": [
    "ls Data/"
   ]
  },
  {
   "cell_type": "code",
   "execution_count": null,
   "metadata": {},
   "outputs": [],
   "source": [
    "!pip3 install openpyxl"
   ]
  },
  {
   "cell_type": "code",
   "execution_count": null,
   "metadata": {},
   "outputs": [],
   "source": [
    "Affordable_food_sheet = pd.ExcelFile('Data/Affordable_food_inititives_Liverpool.xlsx')"
   ]
  },
  {
   "cell_type": "code",
   "execution_count": null,
   "metadata": {},
   "outputs": [],
   "source": [
    "Affordable_food_sheet.sheet_names"
   ]
  },
  {
   "cell_type": "code",
   "execution_count": null,
   "metadata": {},
   "outputs": [],
   "source": [
    "Pantrys=pd.read_excel(Affordable_food_sheet, 'Pantrys, Com markets, Com Shops')\n",
    "Pantrys=Pantrys.iloc[0:27] # avoid the numbers that has slipped down the sheet\n",
    "Pantrys=Pantrys.rename(columns=lambda x: x.strip())\n",
    "\n",
    "Community_cafes=pd.read_excel(Affordable_food_sheet, 'Community cafes ')\n",
    "Community_cafes=Community_cafes.dropna(how='all')\n",
    "Community_cafes=Community_cafes.rename(columns=lambda x: x.strip())\n",
    "\n",
    "Free_food_inititives=pd.read_excel(Affordable_food_sheet, 'Free food inititives ')\n",
    "Free_food_inititives=Free_food_inititives.dropna(how='all')\n",
    "Free_food_inititives=Free_food_inititives.rename(columns=lambda x: x.strip())\n",
    "\n",
    "Pantrys['Category']='Pantry'\n",
    "Community_cafes['Category']='Community_cafes'\n",
    "Free_food_inititives['Category']='Free_food_inititives'\n",
    "\n",
    "Affordable_food_outlets_df = pd.concat([Pantrys,Community_cafes,Free_food_inititives] , ignore_index=True)\n",
    "\n"
   ]
  },
  {
   "cell_type": "code",
   "execution_count": null,
   "metadata": {},
   "outputs": [],
   "source": [
    " Affordable_food_outlets_df=Affordable_food_outlets_df.rename(columns=lambda x: x.strip())"
   ]
  },
  {
   "cell_type": "code",
   "execution_count": null,
   "metadata": {},
   "outputs": [],
   "source": [
    "list(Affordable_food_outlets_df)"
   ]
  },
  {
   "cell_type": "code",
   "execution_count": null,
   "metadata": {},
   "outputs": [],
   "source": [
    "Affordable_food_outlets_df['Addresses']=Affordable_food_outlets_df['Address']+\" \"+Affordable_food_outlets_df[\"Postcode\"]+\" \"+\"Liverpool UK\""
   ]
  },
  {
   "cell_type": "code",
   "execution_count": null,
   "metadata": {},
   "outputs": [],
   "source": [
    "Affordable_food_outlets_df['Category'].value_counts()"
   ]
  },
  {
   "cell_type": "code",
   "execution_count": null,
   "metadata": {},
   "outputs": [],
   "source": [
    "Affordable_food_outlets_df[Affordable_food_outlets_df['Category']==\"Pantry\"]"
   ]
  },
  {
   "cell_type": "code",
   "execution_count": null,
   "metadata": {},
   "outputs": [],
   "source": [
    "list(Affordable_food_outlets_df)"
   ]
  },
  {
   "cell_type": "code",
   "execution_count": null,
   "metadata": {},
   "outputs": [],
   "source": [
    "# Applies the geocoding function\n",
    "\n",
    "start_time = time()\n",
    "\n",
    "\n",
    "Affordable_food_outlets_df[\"lat\"] , Affordable_food_outlets_df[\"lon\"] = zip(*Affordable_food_outlets_df.apply(lambda x: long_lat_func(x[\"Addresses\"],x[\"Postcode\"]) , axis=1))\n",
    "\n",
    "time_elapsed= round((time() - start_time)/60,2)\n",
    "print(\"--- %s minutes ---\" % (time_elapsed))"
   ]
  },
  {
   "cell_type": "code",
   "execution_count": null,
   "metadata": {},
   "outputs": [],
   "source": [
    "# Subsets to drop the na terms\n",
    "Affordable_food_outlets_df_clean=Affordable_food_outlets_df.dropna(subset=['lon', 'lat'])\n",
    "Affordable_food_outlets_df_clean=Affordable_food_outlets_df_clean.dropna(subset=['Name'])\n",
    "Affordable_food_outlets_df_clean=Affordable_food_outlets_df_clean.dropna(subset=['Address'])\n",
    "\n",
    "#Converts the longitude and latitude as points data to give the geocoordinates for the data frame\n",
    "geometry = [Point(xy) for xy in zip(Affordable_food_outlets_df_clean['lon'], Affordable_food_outlets_df_clean['lat'])]\n",
    "\n",
    "\n",
    "\n",
    "# Create a GeoDataFrame from art and verify the type\n",
    "Affordable_food_outlets = gpd.GeoDataFrame(Affordable_food_outlets_df_clean, crs = 'epsg:4326' , geometry = geometry)"
   ]
  },
  {
   "cell_type": "code",
   "execution_count": null,
   "metadata": {},
   "outputs": [],
   "source": [
    "Affordable_food_outlets.plot()"
   ]
  },
  {
   "cell_type": "code",
   "execution_count": null,
   "metadata": {},
   "outputs": [],
   "source": [
    "# Write out the food initatives location as a geojson for use in the mapbox map\n",
    "Affordable_food_outlets.to_file(\"Data/Out/Affordable_food_iniatives.geojson\", driver='GeoJSON')"
   ]
  },
  {
   "cell_type": "markdown",
   "metadata": {},
   "source": [
    "# Emergency food initatives"
   ]
  },
  {
   "cell_type": "code",
   "execution_count": null,
   "metadata": {},
   "outputs": [],
   "source": [
    "Emergency_food_sheet = pd.ExcelFile('Data/emergency_food_providers.xlsx')"
   ]
  },
  {
   "cell_type": "code",
   "execution_count": null,
   "metadata": {},
   "outputs": [],
   "source": [
    "Emergency_food_sheet.sheet_names"
   ]
  },
  {
   "cell_type": "code",
   "execution_count": null,
   "metadata": {},
   "outputs": [],
   "source": [
    "Food_parcel=pd.read_excel(Emergency_food_sheet, 'Sheet1')\n",
    "Food_parcel=Food_parcel.dropna(how='all')\n",
    "Food_parcel=Food_parcel.rename(columns=lambda x: x.strip())\n",
    "Food_parcel=Food_parcel.rename(columns={'Emergency food parcel provider':'Name'})\n",
    "\n",
    "Meal_providers=pd.read_excel(Emergency_food_sheet, 'Sheet2')\n",
    "Meal_providers=Meal_providers.dropna(how='all')\n",
    "Meal_providers=Meal_providers.rename(columns=lambda x: x.strip())\n",
    "Meal_providers=Meal_providers.rename(columns={'Emergency meal provider':'Name'})\n",
    "\n",
    "\n",
    "Food_parcel['Category']='Food_parcels'\n",
    "Meal_providers['Category']='Meal_providers'\n",
    "\n",
    "\n",
    "Emergency_food_suppliers = pd.concat([Food_parcel,Meal_providers] , ignore_index=True)\n",
    "\n"
   ]
  },
  {
   "cell_type": "code",
   "execution_count": null,
   "metadata": {},
   "outputs": [],
   "source": [
    "Emergency_food_suppliers['Category'].value_counts() \n"
   ]
  },
  {
   "cell_type": "code",
   "execution_count": null,
   "metadata": {},
   "outputs": [],
   "source": [
    "Emergency_food_suppliers['Addresses']=Emergency_food_suppliers['Address']+\" \"+Emergency_food_suppliers[\"Postcode\"]+\" \"+\" UK\""
   ]
  },
  {
   "cell_type": "code",
   "execution_count": null,
   "metadata": {},
   "outputs": [],
   "source": [
    "# Drop the mobile food suppliers\n",
    "Emergency_food_suppliers=Emergency_food_suppliers[Emergency_food_suppliers['Address']!=\"Mobile \"]\n",
    "\n",
    "start_time = time()\n",
    "\n",
    "Emergency_food_suppliers[\"lat\"] , Emergency_food_suppliers[\"lon\"] = zip(*Emergency_food_suppliers.apply(lambda x: long_lat_func(x[\"Addresses\"],x[\"Postcode\"]) , axis=1))\n",
    "time_elapsed= round((time() - start_time)/60,2)\n",
    "print(\"--- %s minutes ---\" % (time_elapsed))"
   ]
  },
  {
   "cell_type": "code",
   "execution_count": null,
   "metadata": {},
   "outputs": [],
   "source": [
    "# Subsets to drop the na terms for the locations\n",
    "Emergency_food_suppliers_clean=Emergency_food_suppliers.dropna(subset=['lon', 'lat'])\n",
    "\n",
    "#Converts the longitude and latitude as points data to give the geocoordinates for the data frame\n",
    "geometry = [Point(xy) for xy in zip(Emergency_food_suppliers_clean['lon'], Emergency_food_suppliers_clean['lat'])]\n",
    "\n",
    "\n",
    "\n",
    "# Create a GeoDataFrame from the data\n",
    "Emergency_food_suppliers= gpd.GeoDataFrame(Emergency_food_suppliers_clean, crs = 'epsg:4326' , geometry = geometry)"
   ]
  },
  {
   "cell_type": "code",
   "execution_count": null,
   "metadata": {},
   "outputs": [],
   "source": [
    "Emergency_food_suppliers_clean"
   ]
  },
  {
   "cell_type": "code",
   "execution_count": null,
   "metadata": {},
   "outputs": [],
   "source": [
    "Emergency_food_suppliers.plot()"
   ]
  },
  {
   "cell_type": "code",
   "execution_count": null,
   "metadata": {},
   "outputs": [],
   "source": [
    "Emergency_food_suppliers.to_file(\"Data/Out/Emergency_food_suppliers.geojson\", driver='GeoJSON')"
   ]
  },
  {
   "cell_type": "code",
   "execution_count": null,
   "metadata": {},
   "outputs": [],
   "source": [
    "conda install seaborn"
   ]
  },
  {
   "cell_type": "code",
   "execution_count": null,
   "metadata": {},
   "outputs": [],
   "source": [
    "! pip install geoplot"
   ]
  },
  {
   "cell_type": "code",
   "execution_count": null,
   "metadata": {},
   "outputs": [],
   "source": [
    "Emergency_food_suppliers[\"categ\"]"
   ]
  },
  {
   "cell_type": "markdown",
   "metadata": {},
   "source": [
    "# Extract the ward area boundaries from the API"
   ]
  },
  {
   "cell_type": "code",
   "execution_count": null,
   "metadata": {},
   "outputs": [],
   "source": [
    "URL = \"http://statistics.data.gov.uk/resource.json?uri=http%3A%2F%2Fstatistics.data.gov.uk%2Fid%2Fstatistical-geography%2F{code}%2Fgeometry\"\n",
    "\n",
    "# Function to call the API with the geography codes and return the shape files using the API\n",
    "def get_shape(gss_code):\n",
    "    return requests.get(URL.format(code=gss_code)).json()"
   ]
  },
  {
   "cell_type": "code",
   "execution_count": null,
   "metadata": {},
   "outputs": [],
   "source": [
    "# Import the ward codes"
   ]
  },
  {
   "cell_type": "code",
   "execution_count": null,
   "metadata": {},
   "outputs": [],
   "source": [
    "food_poverty_stats=pd.read_csv(\"Data/Food_Poverty_Health_stats.csv\")\n",
    "food_poverty_stats.tail(n=5)"
   ]
  },
  {
   "cell_type": "code",
   "execution_count": null,
   "metadata": {},
   "outputs": [],
   "source": [
    "# Subsets so we look just at 2020 data and drop the general all Liverpool data\n",
    "food_poverty_stats2020=food_poverty_stats[(food_poverty_stats['Year']==2020) & (food_poverty_stats['WardName']!=\"Liverpool\")]\n",
    "food_poverty_stats2020.head(n=5)"
   ]
  },
  {
   "cell_type": "code",
   "execution_count": null,
   "metadata": {},
   "outputs": [],
   "source": [
    "#Create a list of features to stick the different wards together into a single geojson\n",
    "features = []\n",
    "\n",
    "\n",
    "for ward in food_poverty_stats2020['WardCode']:\n",
    "       boundary=get_shape(ward)\n",
    "       # Extract the polygon coordinates from geojson\n",
    "       polygon_boundary=boundary[0][\"http://www.opengis.net/ont/geosparql#asWKT\"][0]['@value']\n",
    "       # Use shapely to load into the geometry\n",
    "       features.append(Feature(geometry=shapely.wkt.loads(polygon_boundary),properties={\"WardCode\": ward }))\n",
    "        \n",
    "        \n",
    "Liverpool_wards = FeatureCollection(features)\n",
    "\n",
    "\n",
    "# Write it out as a geojson\n",
    "with open('Data/Liverpool_wards.geojson', 'w') as f:\n",
    "   dump(Liverpool_wards, f)\n",
    "\n",
    "# Read in the geojson\n",
    "filename = \"Data/Liverpool_wards.geojson\"\n",
    "file = open(filename, encoding='latin1')\n",
    "Liverpool_wards = gpd.read_file(file)\n",
    "\n",
    "\n"
   ]
  },
  {
   "cell_type": "code",
   "execution_count": null,
   "metadata": {},
   "outputs": [],
   "source": [
    "# Merge with the other ward data, seems simpler to do it this way, but maybe not\n",
    "Liverpool_wards=Liverpool_wards.merge(food_poverty_stats2020, how='inner', on='WardCode')"
   ]
  },
  {
   "cell_type": "code",
   "execution_count": null,
   "metadata": {},
   "outputs": [],
   "source": [
    "list(Liverpool_wards)"
   ]
  },
  {
   "cell_type": "code",
   "execution_count": null,
   "metadata": {},
   "outputs": [],
   "source": [
    "measures=[\"Ward_DASR_Cancers_Under75\",\"Ward_DASR_cvd_Under754\" ,\n",
    "          \"Ward_Reception_Overweight_Obese\", \n",
    "         \"Ward_Year6_Overweight_obese\" , \n",
    "          \"Ward_alcohol_specific_admissions\"]\n"
   ]
  },
  {
   "cell_type": "code",
   "execution_count": null,
   "metadata": {},
   "outputs": [],
   "source": [
    "wards_ranked=pd.DataFrame(food_poverty_stats2020[\"WardCode\"])\n",
    "\n",
    "\n",
    "# converts the variables into quintiles and then adds to the original Geodataframe (adding as a straight dataframe causes problems)\n",
    "for measure in measures: \n",
    "    new_col=pd.DataFrame(np.ceil(food_poverty_stats2020[measure].rank(pct=True).mul(5)).astype('Int64')).rename(columns={measure: measure+\"_rank\"})\n",
    "    wards_ranked=pd.concat([wards_ranked, new_col], axis=1)\n",
    "\n"
   ]
  },
  {
   "cell_type": "code",
   "execution_count": null,
   "metadata": {},
   "outputs": [],
   "source": [
    "# Merge with the other ward data, seems simpler to do it this way, but maybe not\n",
    "Liverpool_wards=Liverpool_wards.merge(wards_ranked, on='WardCode')"
   ]
  },
  {
   "cell_type": "code",
   "execution_count": null,
   "metadata": {},
   "outputs": [],
   "source": [
    "Liverpool_wards.to_file(\"Data/Out/Liverpool_wards.geojson\", driver='GeoJSON')"
   ]
  },
  {
   "cell_type": "markdown",
   "metadata": {},
   "source": [
    "# Extracting the Liverpool border area file"
   ]
  },
  {
   "cell_type": "code",
   "execution_count": null,
   "metadata": {},
   "outputs": [],
   "source": [
    "features=[]\n",
    "\n",
    "Liv=food_poverty_stats[(food_poverty_stats['WardName']==\"Liverpool\") & (food_poverty_stats['Year']==2020) ]\n",
    "# Get the shape file for the Liverpool city code\n",
    "boundary=get_shape(\"E08000012\")"
   ]
  },
  {
   "cell_type": "code",
   "execution_count": null,
   "metadata": {},
   "outputs": [],
   "source": [
    "polygon_boundary=boundary[0][\"http://www.opengis.net/ont/geosparql#asWKT\"][0]['@value']\n",
    "# Use shapely to load into the geometry\n",
    "features.append(Feature(geometry=shapely.wkt.loads(polygon_boundary),properties={\"WardCode\": \"E08000012\" }))"
   ]
  },
  {
   "cell_type": "code",
   "execution_count": null,
   "metadata": {},
   "outputs": [],
   "source": [
    "Liverpool_boundary = FeatureCollection(features)"
   ]
  },
  {
   "cell_type": "code",
   "execution_count": null,
   "metadata": {},
   "outputs": [],
   "source": [
    "# Write it out as a geojson, note this may require reformatting to reload into mapbox\n",
    "with open('Data/Out/Liverpool_boundary.geojson', 'w') as f:\n",
    "    dump( Liverpool_boundary, f)"
   ]
  },
  {
   "cell_type": "markdown",
   "metadata": {},
   "source": [
    "# Get a bounding box"
   ]
  },
  {
   "cell_type": "markdown",
   "metadata": {},
   "source": [
    "This expands the bounding box around Liverpool so that the map border is wider than the area of the Liverpool shape file"
   ]
  },
  {
   "cell_type": "code",
   "execution_count": null,
   "metadata": {},
   "outputs": [],
   "source": [
    "Liverpool_wards_expand=Liverpool_wards"
   ]
  },
  {
   "cell_type": "code",
   "execution_count": null,
   "metadata": {},
   "outputs": [],
   "source": [
    "Liverpool_wards_expand.total_bounds"
   ]
  },
  {
   "cell_type": "code",
   "execution_count": null,
   "metadata": {},
   "outputs": [],
   "source": [
    "Liverpool_wards_expand.geometry.iloc[0] = shapely.affinity.scale(Liverpool_wards_expand.geometry.iloc[0], xfact=1.05, yfact=1.05, origin='center')"
   ]
  },
  {
   "cell_type": "code",
   "execution_count": null,
   "metadata": {},
   "outputs": [],
   "source": [
    "Liverpool_wards_expand.total_bounds"
   ]
  },
  {
   "cell_type": "markdown",
   "metadata": {},
   "source": [
    "# Generate a whole set of density plots"
   ]
  },
  {
   "cell_type": "code",
   "execution_count": null,
   "metadata": {},
   "outputs": [],
   "source": [
    "import geopandas as gpd\n",
    "import geoplot as gplt\n",
    "import geoplot.crs as gcrs\n",
    "import matplotlib.pyplot as plt\n",
    "\n",
    "\n",
    "\n",
    "proj = gcrs.AlbersEqualArea(central_latitude=53.40938, central_longitude=-2.92413)  \n",
    "fig = plt.figure(figsize=(10,5))\n",
    "ax1 = plt.subplot(121, projection=proj)\n",
    "#ax2 = plt.subplot(122, projection=proj)\n",
    "\n",
    "gplt.kdeplot(supermarkets,\n",
    "    cmap='Reds',\n",
    "    projection=proj,\n",
    "    shade=True, shade_lowest=False,\n",
    "    clip=Liverpool_wards.geometry,\n",
    "    ax=ax1\n",
    ")\n",
    "#gplt.polyplot(Liverpool_boundary, zorder=1, ax=ax1)\n",
    "ax1.set_title(\"Supermarkets\")"
   ]
  },
  {
   "cell_type": "code",
   "execution_count": null,
   "metadata": {},
   "outputs": [],
   "source": [
    "proj = gcrs.AlbersEqualArea(central_latitude=53.40938, central_longitude=-2.92413)  \n",
    "fig = plt.figure(figsize=(10,5))\n",
    "ax1 = plt.subplot(121, projection=proj)\n",
    "#ax2 = plt.subplot(122, projection=proj)\n",
    "\n",
    "gplt.kdeplot(food_outlets_geo[food_outlets_geo[\"BusinessType\"]=='Takeaway/sandwich shop'],\n",
    "    cmap='Reds',\n",
    "    projection=proj,\n",
    "    shade=True, shade_lowest=False,\n",
    "    clip=Liverpool_wards.geometry,\n",
    "    ax=ax1\n",
    ")\n",
    "ax1.set_title(\"Takeaway/sandwich shop\")\n"
   ]
  },
  {
   "cell_type": "code",
   "execution_count": null,
   "metadata": {},
   "outputs": [],
   "source": [
    "proj = gcrs.AlbersEqualArea(central_latitude=53.40938, central_longitude=-2.92413)  \n",
    "fig = plt.figure(figsize=(10,5))\n",
    "\n",
    "ax1 = plt.subplot(121, projection=proj)\n",
    "ax2 = plt.subplot(122, projection=proj) \n",
    "ax3 = plt.subplot(213, projection=proj)\n",
    "ax3 = plt.subplot(224, projection=proj) \n",
    "\n",
    "gplt.kdeplot(food_outlets_geo[food_outlets_geo[\"BusinessType\"]=='Restaurant/Cafe/Canteen'],\n",
    "    cmap='Reds',\n",
    "    projection=proj,\n",
    "    shade=True, shade_lowest=False,\n",
    "    clip=Liverpool_wards.geometry,\n",
    "    ax=ax1\n",
    ")\n",
    "\n",
    "ax1.set_title('Restaurant/Cafe/Canteen')\n",
    "\n",
    "\n",
    "\n",
    "gplt.kdeplot(food_outlets_geo[food_outlets_geo[\"BusinessType\"]=='Pub/bar/nightclub'],\n",
    "    cmap='Reds',\n",
    "    projection=proj,\n",
    "    shade=True, shade_lowest=False,\n",
    "    clip=Liverpool_wards.geometry,\n",
    "    ax=ax2\n",
    ")\n",
    "\n",
    "ax2.set_title('Pub bar nightclub')\n",
    "\n",
    "\n",
    "gplt.kdeplot(supermarkets,\n",
    "    cmap='Reds',\n",
    "    projection=proj,\n",
    "    shade=True, shade_lowest=False,\n",
    "    clip=Liverpool_wards.geometry,\n",
    "    ax=ax3\n",
    ")\n",
    "#gplt.polyplot(Liverpool_boundary, zorder=1, ax=ax1)\n",
    "ax3.set_title(\"Supermarkets\")\n",
    "\n",
    "\n",
    "gplt.kdeplot(Emergency_food_suppliers[Emergency_food_suppliers[\"Category\"]==\"Meal_providers\"] ,\n",
    "    cmap='Reds',\n",
    "    projection=proj,\n",
    "    shade=True, shade_lowest=False,\n",
    "    clip=Liverpool_wards.geometry,\n",
    "    ax=ax4\n",
    ")\n",
    "#gplt.polyplot(Liverpool_boundary, zorder=1, ax=ax1)\n",
    "ax4.set_title(\"Meal providers\")\n",
    "\n"
   ]
  },
  {
   "cell_type": "code",
   "execution_count": null,
   "metadata": {},
   "outputs": [],
   "source": [
    "Emergency_food_suppliers[Emergency_food_suppliers[\"Category\"]==\"Food_parcels\"] \n",
    "\n",
    "proj = gcrs.AlbersEqualArea(central_latitude=53.40938, central_longitude=-2.92413)  \n",
    "fig = plt.figure(figsize=(10,5))\n",
    "ax1 = plt.subplot(121, projection=proj)\n",
    "#  \"Food_parcels\"\n",
    "gplt.kdeplot(Emergency_food_suppliers[Emergency_food_suppliers[\"Category\"]==\"Meal_providers\"]  ,\n",
    "    cmap='Reds',\n",
    "    projection=proj,\n",
    "    shade=True, shade_lowest=False,\n",
    "    clip=Liverpool_wards.geometry,\n",
    "    ax=ax1\n",
    ")\n",
    "\n"
   ]
  },
  {
   "cell_type": "code",
   "execution_count": null,
   "metadata": {},
   "outputs": [],
   "source": [
    "Pantry                  27\n",
    "Free_food_inititives    14\n",
    "Community_cafes  "
   ]
  },
  {
   "cell_type": "code",
   "execution_count": null,
   "metadata": {},
   "outputs": [],
   "source": [
    "# Check that everything has been written out\n",
    "! ls Data\n"
   ]
  },
  {
   "cell_type": "code",
   "execution_count": null,
   "metadata": {},
   "outputs": [],
   "source": [
    "pwd"
   ]
  },
  {
   "cell_type": "code",
   "execution_count": null,
   "metadata": {},
   "outputs": [],
   "source": [
    "ls"
   ]
  },
  {
   "cell_type": "code",
   "execution_count": null,
   "metadata": {},
   "outputs": [],
   "source": []
  }
 ],
 "metadata": {
  "jupytext": {
   "formats": "ipynb,auto:light"
  },
  "kernelspec": {
   "display_name": "Python 3",
   "language": "python",
   "name": "python3"
  },
  "language_info": {
   "codemirror_mode": {
    "name": "ipython",
    "version": 3
   },
   "file_extension": ".py",
   "mimetype": "text/x-python",
   "name": "python",
   "nbconvert_exporter": "python",
   "pygments_lexer": "ipython3",
   "version": "3.7.7"
  }
 },
 "nbformat": 4,
 "nbformat_minor": 4
}

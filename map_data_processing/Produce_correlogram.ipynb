{
 "cells": [
  {
   "cell_type": "code",
   "execution_count": 1,
   "id": "integral-dodge",
   "metadata": {},
   "outputs": [],
   "source": [
    "import pandas as pd #importing the Pandas Library as 'pd'\n",
    "import numpy as np\n",
    "\n",
    "#Imports spatial libraries\n",
    "from keplergl import KeplerGl #importing KeplerGl\n",
    "import geopandas as gpd #importing geopandas as 'gpd'\n",
    "from shapely.geometry import Point\n",
    "from shapely.geometry import box\n",
    "import shapely.wkt\n",
    "from geopy.geocoders import Nominatim # Imports the geopy for the geocoding\n",
    "import geojson\n",
    "from geojson import Point, Feature, FeatureCollection, dump\n",
    "from geojson_rewind import rewind\n",
    "import json\n",
    "\n",
    "\n",
    "\n",
    "import xml.etree.ElementTree as ET\n",
    "import requests\n",
    "import matplotlib.pyplot as plt\n",
    "\n",
    "\n",
    "from time import time"
   ]
  },
  {
   "cell_type": "code",
   "execution_count": 2,
   "id": "western-token",
   "metadata": {},
   "outputs": [
    {
     "name": "stdout",
     "output_type": "stream",
     "text": [
      "Affordable_food_iniatives.geojson  Liverpool_lsoa.geojson    education.geojson\r\n",
      "Emergency_food_suppliers.geojson   Liverpool_wards.geojson   income.geojson\r\n",
      "Food_outlets_geo.geojson           Obesity.geojson           morbidity.geojson\r\n",
      "Isochrone.geojson                  Supermarkets_geo.geojson  population.geojson\r\n",
      "Liverpool_boundary.geojson         crowding.geojson          score.geojson\r\n"
     ]
    }
   ],
   "source": [
    "ls Data/Out/"
   ]
  },
  {
   "cell_type": "markdown",
   "id": "religious-effectiveness",
   "metadata": {},
   "source": [
    "# Read in the files"
   ]
  },
  {
   "cell_type": "code",
   "execution_count": 99,
   "id": "metallic-matthew",
   "metadata": {},
   "outputs": [],
   "source": [
    "## Reads in the Liverpool boundary file\n",
    "filename='Data/Out/Liverpool_lsoa.geojson'\n",
    "Liverpool_lsoa = gpd.read_file(open(filename))\n",
    "\n",
    "filename2='Data/Out/Affordable_food_iniatives.geojson'\n",
    "Affordable_food_initatives = gpd.read_file(open(filename2))\n",
    "\n",
    "filename3='Data/Out/Emergency_food_suppliers.geojson'\n",
    "Emergency_food_suppliers = gpd.read_file(open(filename3))\n",
    "\n",
    "filename4='Data/Out/Food_outlets_geo.geojson'\n",
    "Food_outlets = gpd.read_file(open(filename4))\n",
    "\n",
    "filename5='Data/Out/Supermarkets_geo.geojson'\n",
    "Supermarkets = gpd.read_file(open(filename5))\n"
   ]
  },
  {
   "cell_type": "code",
   "execution_count": 82,
   "id": "residential-disclaimer",
   "metadata": {},
   "outputs": [
    {
     "data": {
      "text/html": [
       "<div>\n",
       "<style scoped>\n",
       "    .dataframe tbody tr th:only-of-type {\n",
       "        vertical-align: middle;\n",
       "    }\n",
       "\n",
       "    .dataframe tbody tr th {\n",
       "        vertical-align: top;\n",
       "    }\n",
       "\n",
       "    .dataframe thead th {\n",
       "        text-align: right;\n",
       "    }\n",
       "</style>\n",
       "<table border=\"1\" class=\"dataframe\">\n",
       "  <thead>\n",
       "    <tr style=\"text-align: right;\">\n",
       "      <th></th>\n",
       "      <th>LSOA11CD</th>\n",
       "      <th>LSOA11NM</th>\n",
       "      <th>LSOA code (2011)</th>\n",
       "      <th>LSOA name (2011)_x</th>\n",
       "      <th>Local Authority District code (2019)_x</th>\n",
       "      <th>Local Authority District name (2019)_x</th>\n",
       "      <th>Total population: mid 2015 (excluding prisoners)</th>\n",
       "      <th>Dependent Children aged 0-15: mid 2015 (excluding prisoners)</th>\n",
       "      <th>Population aged 16-59: mid 2015 (excluding prisoners)</th>\n",
       "      <th>Older population aged 60 and over: mid 2015 (excluding prisoners)</th>\n",
       "      <th>...</th>\n",
       "      <th>Housing in poor condition indicator_rank</th>\n",
       "      <th>Houses without central heating indicator_rank</th>\n",
       "      <th>Road traffic accidents indicator_rank</th>\n",
       "      <th>Nitrogen dioxide (component of air quality indicator)_rank</th>\n",
       "      <th>Benzene (component of air quality indicator)_rank</th>\n",
       "      <th>Sulphur dioxide (component of air quality indicator)_rank</th>\n",
       "      <th>Particulates (component of air quality indicator)_rank</th>\n",
       "      <th>Air quality indicator_rank</th>\n",
       "      <th>Score_rank</th>\n",
       "      <th>geometry</th>\n",
       "    </tr>\n",
       "  </thead>\n",
       "  <tbody>\n",
       "    <tr>\n",
       "      <th>0</th>\n",
       "      <td>Liverpool 050G</td>\n",
       "      <td>Liverpool 050G</td>\n",
       "      <td>E01032506</td>\n",
       "      <td>Liverpool 050G</td>\n",
       "      <td>Liverpool 050G</td>\n",
       "      <td>E08000012</td>\n",
       "      <td>326</td>\n",
       "      <td>208</td>\n",
       "      <td>0</td>\n",
       "      <td>0</td>\n",
       "      <td>...</td>\n",
       "      <td>5</td>\n",
       "      <td>4</td>\n",
       "      <td>3</td>\n",
       "      <td>3</td>\n",
       "      <td>3</td>\n",
       "      <td>2</td>\n",
       "      <td>3</td>\n",
       "      <td>2</td>\n",
       "      <td>2</td>\n",
       "      <td>POLYGON ((-2.95426 53.38099, -2.95408 53.38093...</td>\n",
       "    </tr>\n",
       "    <tr>\n",
       "      <th>1</th>\n",
       "      <td>Liverpool 050H</td>\n",
       "      <td>Liverpool 050H</td>\n",
       "      <td>E01032507</td>\n",
       "      <td>Liverpool 050H</td>\n",
       "      <td>Liverpool 050H</td>\n",
       "      <td>E08000012</td>\n",
       "      <td>233</td>\n",
       "      <td>183</td>\n",
       "      <td>0</td>\n",
       "      <td>0</td>\n",
       "      <td>...</td>\n",
       "      <td>5</td>\n",
       "      <td>4</td>\n",
       "      <td>3</td>\n",
       "      <td>3</td>\n",
       "      <td>3</td>\n",
       "      <td>2</td>\n",
       "      <td>3</td>\n",
       "      <td>2</td>\n",
       "      <td>1</td>\n",
       "      <td>POLYGON ((-2.95186 53.38009, -2.95182 53.38007...</td>\n",
       "    </tr>\n",
       "    <tr>\n",
       "      <th>2</th>\n",
       "      <td>Liverpool 050F</td>\n",
       "      <td>Liverpool 050F</td>\n",
       "      <td>E01032505</td>\n",
       "      <td>Liverpool 050F</td>\n",
       "      <td>Liverpool 050F</td>\n",
       "      <td>E08000012</td>\n",
       "      <td>295</td>\n",
       "      <td>233</td>\n",
       "      <td>0</td>\n",
       "      <td>0</td>\n",
       "      <td>...</td>\n",
       "      <td>1</td>\n",
       "      <td>3</td>\n",
       "      <td>3</td>\n",
       "      <td>3</td>\n",
       "      <td>3</td>\n",
       "      <td>2</td>\n",
       "      <td>3</td>\n",
       "      <td>2</td>\n",
       "      <td>3</td>\n",
       "      <td>POLYGON ((-2.96348 53.37651, -2.96314 53.37672...</td>\n",
       "    </tr>\n",
       "    <tr>\n",
       "      <th>3</th>\n",
       "      <td>Liverpool 027G</td>\n",
       "      <td>Liverpool 027G</td>\n",
       "      <td>E01032508</td>\n",
       "      <td>Liverpool 027G</td>\n",
       "      <td>Liverpool 027G</td>\n",
       "      <td>E08000012</td>\n",
       "      <td>335</td>\n",
       "      <td>344</td>\n",
       "      <td>0</td>\n",
       "      <td>0</td>\n",
       "      <td>...</td>\n",
       "      <td>4</td>\n",
       "      <td>4</td>\n",
       "      <td>3</td>\n",
       "      <td>3</td>\n",
       "      <td>5</td>\n",
       "      <td>5</td>\n",
       "      <td>3</td>\n",
       "      <td>5</td>\n",
       "      <td>4</td>\n",
       "      <td>POLYGON ((-2.91993 53.41418, -2.91991 53.41425...</td>\n",
       "    </tr>\n",
       "    <tr>\n",
       "      <th>4</th>\n",
       "      <td>Liverpool 027H</td>\n",
       "      <td>Liverpool 027H</td>\n",
       "      <td>E01032509</td>\n",
       "      <td>Liverpool 027H</td>\n",
       "      <td>Liverpool 027H</td>\n",
       "      <td>E08000012</td>\n",
       "      <td>238</td>\n",
       "      <td>255</td>\n",
       "      <td>0</td>\n",
       "      <td>0</td>\n",
       "      <td>...</td>\n",
       "      <td>4</td>\n",
       "      <td>5</td>\n",
       "      <td>3</td>\n",
       "      <td>3</td>\n",
       "      <td>4</td>\n",
       "      <td>5</td>\n",
       "      <td>3</td>\n",
       "      <td>4</td>\n",
       "      <td>3</td>\n",
       "      <td>POLYGON ((-2.92471 53.41143, -2.92470 53.41143...</td>\n",
       "    </tr>\n",
       "  </tbody>\n",
       "</table>\n",
       "<p>5 rows × 86 columns</p>\n",
       "</div>"
      ],
      "text/plain": [
       "         LSOA11CD        LSOA11NM LSOA code (2011) LSOA name (2011)_x  \\\n",
       "0  Liverpool 050G  Liverpool 050G        E01032506     Liverpool 050G   \n",
       "1  Liverpool 050H  Liverpool 050H        E01032507     Liverpool 050H   \n",
       "2  Liverpool 050F  Liverpool 050F        E01032505     Liverpool 050F   \n",
       "3  Liverpool 027G  Liverpool 027G        E01032508     Liverpool 027G   \n",
       "4  Liverpool 027H  Liverpool 027H        E01032509     Liverpool 027H   \n",
       "\n",
       "  Local Authority District code (2019)_x  \\\n",
       "0                         Liverpool 050G   \n",
       "1                         Liverpool 050H   \n",
       "2                         Liverpool 050F   \n",
       "3                         Liverpool 027G   \n",
       "4                         Liverpool 027H   \n",
       "\n",
       "  Local Authority District name (2019)_x  \\\n",
       "0                              E08000012   \n",
       "1                              E08000012   \n",
       "2                              E08000012   \n",
       "3                              E08000012   \n",
       "4                              E08000012   \n",
       "\n",
       "   Total population: mid 2015 (excluding prisoners)  \\\n",
       "0                                               326   \n",
       "1                                               233   \n",
       "2                                               295   \n",
       "3                                               335   \n",
       "4                                               238   \n",
       "\n",
       "   Dependent Children aged 0-15: mid 2015 (excluding prisoners)  \\\n",
       "0                                                208              \n",
       "1                                                183              \n",
       "2                                                233              \n",
       "3                                                344              \n",
       "4                                                255              \n",
       "\n",
       "   Population aged 16-59: mid 2015 (excluding prisoners)  \\\n",
       "0                                                  0       \n",
       "1                                                  0       \n",
       "2                                                  0       \n",
       "3                                                  0       \n",
       "4                                                  0       \n",
       "\n",
       "   Older population aged 60 and over: mid 2015 (excluding prisoners)  ...  \\\n",
       "0                                                  0                  ...   \n",
       "1                                                  0                  ...   \n",
       "2                                                  0                  ...   \n",
       "3                                                  0                  ...   \n",
       "4                                                  0                  ...   \n",
       "\n",
       "   Housing in poor condition indicator_rank  \\\n",
       "0                                         5   \n",
       "1                                         5   \n",
       "2                                         1   \n",
       "3                                         4   \n",
       "4                                         4   \n",
       "\n",
       "  Houses without central heating indicator_rank  \\\n",
       "0                                             4   \n",
       "1                                             4   \n",
       "2                                             3   \n",
       "3                                             4   \n",
       "4                                             5   \n",
       "\n",
       "  Road traffic accidents indicator_rank  \\\n",
       "0                                     3   \n",
       "1                                     3   \n",
       "2                                     3   \n",
       "3                                     3   \n",
       "4                                     3   \n",
       "\n",
       "  Nitrogen dioxide (component of air quality indicator)_rank  \\\n",
       "0                                                  3           \n",
       "1                                                  3           \n",
       "2                                                  3           \n",
       "3                                                  3           \n",
       "4                                                  3           \n",
       "\n",
       "   Benzene (component of air quality indicator)_rank  \\\n",
       "0                                                  3   \n",
       "1                                                  3   \n",
       "2                                                  3   \n",
       "3                                                  5   \n",
       "4                                                  4   \n",
       "\n",
       "   Sulphur dioxide (component of air quality indicator)_rank  \\\n",
       "0                                                  2           \n",
       "1                                                  2           \n",
       "2                                                  2           \n",
       "3                                                  5           \n",
       "4                                                  5           \n",
       "\n",
       "   Particulates (component of air quality indicator)_rank  \\\n",
       "0                                                  3        \n",
       "1                                                  3        \n",
       "2                                                  3        \n",
       "3                                                  3        \n",
       "4                                                  3        \n",
       "\n",
       "   Air quality indicator_rank  Score_rank  \\\n",
       "0                           2           2   \n",
       "1                           2           1   \n",
       "2                           2           3   \n",
       "3                           5           4   \n",
       "4                           4           3   \n",
       "\n",
       "                                            geometry  \n",
       "0  POLYGON ((-2.95426 53.38099, -2.95408 53.38093...  \n",
       "1  POLYGON ((-2.95186 53.38009, -2.95182 53.38007...  \n",
       "2  POLYGON ((-2.96348 53.37651, -2.96314 53.37672...  \n",
       "3  POLYGON ((-2.91993 53.41418, -2.91991 53.41425...  \n",
       "4  POLYGON ((-2.92471 53.41143, -2.92470 53.41143...  \n",
       "\n",
       "[5 rows x 86 columns]"
      ]
     },
     "execution_count": 82,
     "metadata": {},
     "output_type": "execute_result"
    }
   ],
   "source": [
    "Liverpool_lsoa.head(n=5)"
   ]
  },
  {
   "cell_type": "markdown",
   "id": "systematic-transition",
   "metadata": {},
   "source": [
    "# Ensure that the projection of everything is consistent"
   ]
  },
  {
   "cell_type": "code",
   "execution_count": 33,
   "id": "union-bumper",
   "metadata": {},
   "outputs": [],
   "source": [
    "Liverpool_lsoa['geometry'] = Liverpool_lsoa['geometry'].set_crs(\"EPSG:4326\")"
   ]
  },
  {
   "cell_type": "code",
   "execution_count": 30,
   "id": "worthy-canon",
   "metadata": {},
   "outputs": [],
   "source": [
    "Affordable_food_iniatives = Affordable_food_iniatives.set_crs(\"EPSG:4326\")"
   ]
  },
  {
   "cell_type": "code",
   "execution_count": 100,
   "id": "turned-rapid",
   "metadata": {},
   "outputs": [],
   "source": [
    "Emergency_food_suppliers=Emergency_food_suppliers.set_crs(\"EPSG:4326\")\n",
    "\n",
    "Food_outlets=Food_outlets.set_crs(\"EPSG:4326\")\n",
    "\n",
    "\n",
    "Supermarkets=Supermarkets.set_crs(\"EPSG:4326\")"
   ]
  },
  {
   "cell_type": "code",
   "execution_count": 25,
   "id": "serious-fairy",
   "metadata": {},
   "outputs": [
    {
     "name": "stdout",
     "output_type": "stream",
     "text": [
      "Collecting seaborn\n",
      "  Downloading seaborn-0.11.1-py3-none-any.whl (285 kB)\n",
      "\u001b[K     |████████████████████████████████| 285 kB 848 kB/s eta 0:00:01    |██████████▍                     | 92 kB 820 kB/s eta 0:00:01\n",
      "\u001b[?25hRequirement already satisfied: pandas>=0.23 in /opt/conda/lib/python3.7/site-packages (from seaborn) (1.2.1)\n",
      "Requirement already satisfied: matplotlib>=2.2 in /opt/conda/lib/python3.7/site-packages (from seaborn) (3.3.2)\n",
      "Requirement already satisfied: scipy>=1.0 in /opt/conda/lib/python3.7/site-packages (from seaborn) (1.6.0)\n",
      "Requirement already satisfied: numpy>=1.15 in /opt/conda/lib/python3.7/site-packages (from seaborn) (1.19.2)\n",
      "Requirement already satisfied: pyparsing!=2.0.4,!=2.1.2,!=2.1.6,>=2.0.3 in /opt/conda/lib/python3.7/site-packages (from matplotlib>=2.2->seaborn) (2.4.7)\n",
      "Requirement already satisfied: python-dateutil>=2.1 in /opt/conda/lib/python3.7/site-packages (from matplotlib>=2.2->seaborn) (2.8.1)\n",
      "Requirement already satisfied: kiwisolver>=1.0.1 in /opt/conda/lib/python3.7/site-packages (from matplotlib>=2.2->seaborn) (1.3.1)\n",
      "Requirement already satisfied: cycler>=0.10 in /opt/conda/lib/python3.7/site-packages (from matplotlib>=2.2->seaborn) (0.10.0)\n",
      "Requirement already satisfied: pillow>=6.2.0 in /opt/conda/lib/python3.7/site-packages (from matplotlib>=2.2->seaborn) (8.1.0)\n",
      "Requirement already satisfied: certifi>=2020.06.20 in /opt/conda/lib/python3.7/site-packages (from matplotlib>=2.2->seaborn) (2020.12.5)\n",
      "Requirement already satisfied: six in /opt/conda/lib/python3.7/site-packages (from cycler>=0.10->matplotlib>=2.2->seaborn) (1.15.0)\n",
      "Requirement already satisfied: pytz>=2017.3 in /opt/conda/lib/python3.7/site-packages (from pandas>=0.23->seaborn) (2021.1)\n",
      "Installing collected packages: seaborn\n",
      "Successfully installed seaborn-0.11.1\n"
     ]
    }
   ],
   "source": [
    "!pip install seaborn"
   ]
  },
  {
   "cell_type": "code",
   "execution_count": 13,
   "id": "cognitive-salvation",
   "metadata": {},
   "outputs": [
    {
     "data": {
      "text/plain": [
       "Liverpool 040C    1\n",
       "Liverpool 005A    1\n",
       "Liverpool 008A    1\n",
       "Liverpool 035C    1\n",
       "Liverpool 002E    1\n",
       "                 ..\n",
       "Liverpool 017D    1\n",
       "Liverpool 059D    1\n",
       "Liverpool 062C    1\n",
       "Liverpool 039B    1\n",
       "Liverpool 054C    1\n",
       "Name: LSOA11CD, Length: 298, dtype: int64"
      ]
     },
     "execution_count": 13,
     "metadata": {},
     "output_type": "execute_result"
    }
   ],
   "source": [
    "Liverpool_lsoa[\"LSOA11CD\"].value_counts()"
   ]
  },
  {
   "cell_type": "code",
   "execution_count": 15,
   "id": "patient-departure",
   "metadata": {},
   "outputs": [
    {
     "data": {
      "text/plain": [
       "Liverpool 040C    1\n",
       "Liverpool 005A    1\n",
       "Liverpool 008A    1\n",
       "Liverpool 035C    1\n",
       "Liverpool 002E    1\n",
       "                 ..\n",
       "Liverpool 017D    1\n",
       "Liverpool 059D    1\n",
       "Liverpool 062C    1\n",
       "Liverpool 039B    1\n",
       "Liverpool 054C    1\n",
       "Name: LSOA name (2011)_x, Length: 298, dtype: int64"
      ]
     },
     "execution_count": 15,
     "metadata": {},
     "output_type": "execute_result"
    }
   ],
   "source": [
    "Liverpool_lsoa[\"LSOA name (2011)_x\"].value_counts()"
   ]
  },
  {
   "cell_type": "code",
   "execution_count": null,
   "id": "established-invasion",
   "metadata": {},
   "outputs": [],
   "source": [
    "# Split the initatives down into the different kinds of initatives"
   ]
  },
  {
   "cell_type": "markdown",
   "id": "filled-cheese",
   "metadata": {},
   "source": [
    "# Count the number of food banks, pantries etc by lower super output areas"
   ]
  },
  {
   "cell_type": "code",
   "execution_count": 11,
   "id": "comparative-mumbai",
   "metadata": {},
   "outputs": [
    {
     "data": {
      "text/plain": [
       "['LSOA11CD',\n",
       " 'LSOA11NM',\n",
       " 'LSOA code (2011)',\n",
       " 'LSOA name (2011)_x',\n",
       " 'Local Authority District code (2019)_x',\n",
       " 'Local Authority District name (2019)_x',\n",
       " 'Total population: mid 2015 (excluding prisoners)',\n",
       " 'Dependent Children aged 0-15: mid 2015 (excluding prisoners)',\n",
       " 'Population aged 16-59: mid 2015 (excluding prisoners)',\n",
       " 'Older population aged 60 and over: mid 2015 (excluding prisoners)',\n",
       " 'Working age population 18-59/64: for use with Employment Deprivation Domain (excluding prisoners)',\n",
       " 'LSOA name (2011)_y',\n",
       " 'Local Authority District code (2019)_y',\n",
       " 'Local Authority District name (2019)_y',\n",
       " 'Income Domain numerator',\n",
       " 'Income Deprivation Affecting Children Index (IDACI) numerator',\n",
       " 'Income Deprivation Affecting Older People Index (IDAOPI) numerator',\n",
       " 'Employment Domain numerator',\n",
       " 'Staying on in education post 16 indicator',\n",
       " 'Entry to higher education indicator',\n",
       " 'Adult skills and English language proficiency indicator',\n",
       " 'Years of potential life lost indicator',\n",
       " 'Comparative illness and disability ratio indicator',\n",
       " 'Acute morbidity indicator',\n",
       " 'Mood and anxiety disorders indicator',\n",
       " 'Road distance to a post office indicator (km)',\n",
       " 'Road distance to a primary school indicator (km)',\n",
       " 'Road distance to general store or supermarket indicator (km)',\n",
       " 'Road distance to a GP surgery indicator (km)',\n",
       " 'Household overcrowding indicator',\n",
       " 'Homelessness indicator (rate per 1000 households)',\n",
       " 'Owner-occupation affordability (component of housing affordability indicator)',\n",
       " 'Private rental affordability (component of housing affordability indicator)',\n",
       " 'Housing affordability indicator',\n",
       " 'LSOA name (2011)',\n",
       " 'Local Authority District code (2019)',\n",
       " 'Local Authority District name (2019)',\n",
       " 'Housing in poor condition indicator',\n",
       " 'Houses without central heating indicator',\n",
       " 'Road traffic accidents indicator',\n",
       " 'Nitrogen dioxide (component of air quality indicator)',\n",
       " 'Benzene (component of air quality indicator)',\n",
       " 'Sulphur dioxide (component of air quality indicator)',\n",
       " 'Particulates (component of air quality indicator)',\n",
       " 'Air quality indicator',\n",
       " 'flag',\n",
       " 'LSOA or DZ',\n",
       " 'Nation',\n",
       " 'Score',\n",
       " 'Rank',\n",
       " 'Decile',\n",
       " 'Total population: mid 2015 (excluding prisoners)_rank',\n",
       " 'Dependent Children aged 0-15: mid 2015 (excluding prisoners)_rank',\n",
       " 'Population aged 16-59: mid 2015 (excluding prisoners)_rank',\n",
       " 'Older population aged 60 and over: mid 2015 (excluding prisoners)_rank',\n",
       " 'Working age population 18-59/64: for use with Employment Deprivation Domain (excluding prisoners)_rank',\n",
       " 'Income Domain numerator_rank',\n",
       " 'Income Deprivation Affecting Children Index (IDACI) numerator_rank',\n",
       " 'Income Deprivation Affecting Older People Index (IDAOPI) numerator_rank',\n",
       " 'Employment Domain numerator_rank',\n",
       " 'Staying on in education post 16 indicator_rank',\n",
       " 'Entry to higher education indicator_rank',\n",
       " 'Adult skills and English language proficiency indicator_rank',\n",
       " 'Years of potential life lost indicator_rank',\n",
       " 'Comparative illness and disability ratio indicator_rank',\n",
       " 'Acute morbidity indicator_rank',\n",
       " 'Mood and anxiety disorders indicator_rank',\n",
       " 'Road distance to a post office indicator (km)_rank',\n",
       " 'Road distance to a primary school indicator (km)_rank',\n",
       " 'Road distance to general store or supermarket indicator (km)_rank',\n",
       " 'Road distance to a GP surgery indicator (km)_rank',\n",
       " 'Household overcrowding indicator_rank',\n",
       " 'Homelessness indicator (rate per 1000 households)_rank',\n",
       " 'Owner-occupation affordability (component of housing affordability indicator)_rank',\n",
       " 'Private rental affordability (component of housing affordability indicator)_rank',\n",
       " 'Housing affordability indicator_rank',\n",
       " 'Housing in poor condition indicator_rank',\n",
       " 'Houses without central heating indicator_rank',\n",
       " 'Road traffic accidents indicator_rank',\n",
       " 'Nitrogen dioxide (component of air quality indicator)_rank',\n",
       " 'Benzene (component of air quality indicator)_rank',\n",
       " 'Sulphur dioxide (component of air quality indicator)_rank',\n",
       " 'Particulates (component of air quality indicator)_rank',\n",
       " 'Air quality indicator_rank',\n",
       " 'Score_rank',\n",
       " 'geometry']"
      ]
     },
     "execution_count": 11,
     "metadata": {},
     "output_type": "execute_result"
    }
   ],
   "source": [
    "list(Liverpool_lsoa)"
   ]
  },
  {
   "cell_type": "code",
   "execution_count": 67,
   "id": "dried-release",
   "metadata": {},
   "outputs": [],
   "source": [
    "class Spatial_count:\n",
    "    \n",
    "  def __init__(self, spatial_polygon, spatial_points):\n",
    "    \n",
    "       self.spatial_polygon = spatial_polygon\n",
    "       self.spatial_points=spatial_points\n",
    "        \n",
    "  #Counts the number of points falling within a given geography  \n",
    "  def tablecount(self):\n",
    "\n",
    "        # Does the spatial join\n",
    "        dfsjoin = gpd.sjoin(self.spatial_polygon,self.spatial_points)\n",
    "        \n",
    "        # Creates a flag for the counts\n",
    "        dfsjoin['flag']=1\n",
    " \n",
    "        # Does a pivot table on the LSOA areas i.e. counts how many meetups by category (meetupcat) each geography has meetup groups for \n",
    "   \n",
    "        dfpivot =dfsjoin[[\"LSOA11CD\",\"flag\"]].groupby(['LSOA11CD']).sum() #count().unstack(fill_value=0).stack()\n",
    "    \n",
    "      \n",
    "  \n",
    "        # Resets the index\n",
    "        dfpivot=dfpivot.reset_index()\n",
    "        \n",
    "\n",
    "        return dfpivot\n",
    "  "
   ]
  },
  {
   "cell_type": "code",
   "execution_count": 49,
   "id": "fatty-canon",
   "metadata": {},
   "outputs": [
    {
     "ename": "SyntaxError",
     "evalue": "invalid syntax (<ipython-input-49-d11323426724>, line 8)",
     "output_type": "error",
     "traceback": [
      "\u001b[0;36m  File \u001b[0;32m\"<ipython-input-49-d11323426724>\"\u001b[0;36m, line \u001b[0;32m8\u001b[0m\n\u001b[0;31m    Takeaway/sandwich shop\u001b[0m\n\u001b[0m                         ^\u001b[0m\n\u001b[0;31mSyntaxError\u001b[0m\u001b[0;31m:\u001b[0m invalid syntax\n"
     ]
    }
   ],
   "source": [
    "#Pantrys['Category']='Pantry'\n",
    "#Community_cafes['Category']='Community_cafes'\n",
    "#Free_food_inititives['Category']='Free_food_inititives'\n",
    "# Food_parcel['Category']='Food_parcels'\n",
    "#  Meal_providers['Category']='Meal_providers'\n",
    "\n",
    "Pub/bar/nightclub\n",
    "Takeaway/sandwich shop\n",
    "Restaurant/Cafe/Canteen\n"
   ]
  },
  {
   "cell_type": "code",
   "execution_count": 26,
   "id": "departmental-worker",
   "metadata": {},
   "outputs": [],
   "source": [
    "import seaborn as sns"
   ]
  },
  {
   "cell_type": "code",
   "execution_count": 23,
   "id": "olive-librarian",
   "metadata": {},
   "outputs": [
    {
     "data": {
      "text/plain": [
       "<__main__.Spatial_count at 0x7f85fc8bc510>"
      ]
     },
     "execution_count": 23,
     "metadata": {},
     "output_type": "execute_result"
    }
   ],
   "source": [
    "test"
   ]
  },
  {
   "cell_type": "code",
   "execution_count": 120,
   "id": "significant-rebel",
   "metadata": {},
   "outputs": [
    {
     "name": "stdout",
     "output_type": "stream",
     "text": [
      "No such column\n",
      "          LSOA11CD  0_count\n",
      "0   Liverpool 002A        1\n",
      "1   Liverpool 002E        1\n",
      "2   Liverpool 003D        1\n",
      "3   Liverpool 004B        1\n",
      "4   Liverpool 005E        1\n",
      "5   Liverpool 007E        1\n",
      "6   Liverpool 010F        2\n",
      "7   Liverpool 013C        2\n",
      "8   Liverpool 015A        1\n",
      "9   Liverpool 016B        2\n",
      "10  Liverpool 018F        2\n",
      "11  Liverpool 019D        1\n",
      "12  Liverpool 022D        1\n",
      "13  Liverpool 022E        1\n",
      "14  Liverpool 023C        1\n",
      "15  Liverpool 024C        1\n",
      "16  Liverpool 025A        1\n",
      "17  Liverpool 025D        1\n",
      "18  Liverpool 027G        1\n",
      "19  Liverpool 028C        2\n",
      "20  Liverpool 031C        1\n",
      "21  Liverpool 037A        2\n",
      "22  Liverpool 040C        1\n",
      "23  Liverpool 043A        1\n",
      "24  Liverpool 044C        1\n",
      "25  Liverpool 045A        1\n",
      "26  Liverpool 046B        1\n",
      "27  Liverpool 052E        1\n",
      "28  Liverpool 055B        1\n",
      "29  Liverpool 059C        1\n",
      "30  Liverpool 059D        2\n",
      "31  Liverpool 061B        1\n",
      "No such column\n",
      "          LSOA11CD  1_count\n",
      "0   Liverpool 001B        1\n",
      "1   Liverpool 006B        1\n",
      "2   Liverpool 006D        1\n",
      "3   Liverpool 007C        1\n",
      "4   Liverpool 008G        2\n",
      "5   Liverpool 009E        1\n",
      "6   Liverpool 010E        1\n",
      "7   Liverpool 010F        1\n",
      "8   Liverpool 013B        2\n",
      "9   Liverpool 014B        1\n",
      "10  Liverpool 014C        1\n",
      "11  Liverpool 016B        1\n",
      "12  Liverpool 018A        1\n",
      "13  Liverpool 018F        3\n",
      "14  Liverpool 019C        1\n",
      "15  Liverpool 020B        1\n",
      "16  Liverpool 022E        2\n",
      "17  Liverpool 023D        1\n",
      "18  Liverpool 024B        1\n",
      "19  Liverpool 024C        2\n",
      "20  Liverpool 028C        1\n",
      "21  Liverpool 030A        2\n",
      "22  Liverpool 030B        2\n",
      "23  Liverpool 030D        1\n",
      "24  Liverpool 032C        1\n",
      "25  Liverpool 034A        1\n",
      "26  Liverpool 035D        1\n",
      "27  Liverpool 037D        2\n",
      "28  Liverpool 038A        2\n",
      "29  Liverpool 038C        1\n",
      "30  Liverpool 039C        3\n",
      "31  Liverpool 039D        2\n",
      "32  Liverpool 040C        1\n",
      "33  Liverpool 044A        1\n",
      "34  Liverpool 044B        1\n",
      "35  Liverpool 044C        3\n",
      "36  Liverpool 044E        4\n",
      "37  Liverpool 045A        1\n",
      "38  Liverpool 054B        1\n",
      "39  Liverpool 056E        1\n",
      "40  Liverpool 059E        1\n",
      "41  Liverpool 060E        1\n",
      "No such column\n",
      "          LSOA11CD  2_count\n",
      "0   Liverpool 002E        2\n",
      "1   Liverpool 003B        2\n",
      "2   Liverpool 004B        1\n",
      "3   Liverpool 004C        3\n",
      "4   Liverpool 005A        1\n",
      "..             ...      ...\n",
      "77  Liverpool 061B        1\n",
      "78  Liverpool 061C        2\n",
      "79  Liverpool 062A        1\n",
      "80  Liverpool 062B        6\n",
      "81  Liverpool 062D        1\n",
      "\n",
      "[82 rows x 2 columns]\n",
      "No such column\n",
      "           LSOA11CD  3_count\n",
      "0    Liverpool 001B       10\n",
      "1    Liverpool 001C        8\n",
      "2    Liverpool 001E        8\n",
      "3    Liverpool 002A        7\n",
      "4    Liverpool 002B       11\n",
      "..              ...      ...\n",
      "271  Liverpool 061D       10\n",
      "272  Liverpool 062A       13\n",
      "273  Liverpool 062B      143\n",
      "274  Liverpool 062C       12\n",
      "275  Liverpool 062D       10\n",
      "\n",
      "[276 rows x 2 columns]\n"
     ]
    }
   ],
   "source": [
    "food_sites=[Affordable_food_iniatives,Emergency_food_suppliers, Supermarkets , Food_outlets ]\n",
    "\n",
    "Liverpool_lsoa_extra=Liverpool_lsoa\n",
    "\n",
    "for i, elem in enumerate(food_sites): \n",
    "       # Drop the Liverpool column this is a hack (remove later by using a different dataset to get the points within Liverpool)\n",
    "       try:\n",
    "        del elem['LSOA11CD']\n",
    "       except:\n",
    "         print(\"No such column\")\n",
    "       spatial_join=Spatial_count(Liverpool_lsoa_extra,elem)\n",
    "       count_table=spatial_join.tablecount()\n",
    "       # Rename the count \n",
    "       count_table=count_table.rename(columns={\"flag\":str(i)+\"_count\"})\n",
    "      # Merge the counts with the Liverpool lower super output area data \n",
    "       print(count_table)\n",
    "       Liverpool_lsoa_extra=Liverpool_lsoa_extra.merge(count_table, how='left',left_on=['LSOA11CD'],  right_on=['LSOA11CD'])\n",
    "venue_counts=['0_count','1_count','2_count', '3_count'] \n",
    "\n",
    "Liverpool_lsoa_extra[venue_counts]=Liverpool_lsoa_extra[venue_counts].fillna(0)\n"
   ]
  },
  {
   "cell_type": "markdown",
   "id": "abroad-hardware",
   "metadata": {},
   "source": [
    "# Convert counts to density"
   ]
  },
  {
   "cell_type": "code",
   "execution_count": 122,
   "id": "expanded-equipment",
   "metadata": {},
   "outputs": [
    {
     "name": "stderr",
     "output_type": "stream",
     "text": [
      "/opt/conda/lib/python3.7/site-packages/ipykernel_launcher.py:1: UserWarning: Geometry is in a geographic CRS. Results from 'area' are likely incorrect. Use 'GeoSeries.to_crs()' to re-project geometries to a projected CRS before this operation.\n",
      "\n",
      "  \"\"\"Entry point for launching an IPython kernel.\n"
     ]
    }
   ],
   "source": [
    "Liverpool_lsoa_extra['area'] = Liverpool_lsoa_extra.geometry.area"
   ]
  },
  {
   "cell_type": "code",
   "execution_count": 123,
   "id": "capital-alaska",
   "metadata": {},
   "outputs": [],
   "source": [
    "for elem in venue_counts:\n",
    "    Liverpool_lsoa_extra[elem+\"_density\"]= Liverpool_lsoa_extra[elem]/Liverpool_lsoa_extra['area']"
   ]
  },
  {
   "cell_type": "markdown",
   "id": "coastal-daily",
   "metadata": {},
   "source": [
    "# Visualises the correlelogram"
   ]
  },
  {
   "cell_type": "code",
   "execution_count": 135,
   "id": "introductory-check",
   "metadata": {},
   "outputs": [],
   "source": [
    "# Selects the variables that we want to be on the correelogram\n",
    "\n",
    "correlogram_vars=['0_count_density','1_count_density','2_count_density', '3_count_density', 'Income Domain numerator', 'Houses without central heating indicator','Total population: mid 2015 (excluding prisoners)']\n",
    "                                               \n"
   ]
  },
  {
   "cell_type": "code",
   "execution_count": 136,
   "id": "better-technique",
   "metadata": {},
   "outputs": [],
   "source": [
    "correlogram_data=Liverpool_lsoa_extra[correlogram_vars]"
   ]
  },
  {
   "cell_type": "code",
   "execution_count": 137,
   "id": "mounted-brush",
   "metadata": {},
   "outputs": [
    {
     "data": {
      "text/plain": [
       "Text(0.5, 1.0, 'Correlation between different activities')"
      ]
     },
     "execution_count": 137,
     "metadata": {},
     "output_type": "execute_result"
    },
    {
     "data": {
      "image/png": "[encoded data removed]",
      "text/plain": [
       "<Figure size 864x864 with 1 Axes>"
      ]
     },
     "metadata": {
      "needs_background": "light"
     },
     "output_type": "display_data"
    }
   ],
   "source": [
    "#Calculates coocurrence which is a symmetric matrix, with the diagonal being the % of respondents reporting the category\n",
    "results=correlogram_data.corr()\n",
    "\n",
    "#Creates a mask to hide the upper triangle excluding the diagonal by having k=1\n",
    "matrix = np.triu(results, k=1)\n",
    "\n",
    "#Plots the heatmap with seaborn\n",
    "fig, ax = plt.subplots(figsize=(12,12))  \n",
    "sns.heatmap(results, annot=True,ax=ax, mask=matrix,  cmap ='RdBu_r', vmax=0.5, square=True, cbar=False)\n",
    "ax.set_title('Correlation between different activities')"
   ]
  }
 ],
 "metadata": {
  "jupytext": {
   "formats": "ipynb,auto:light"
  },
  "kernelspec": {
   "display_name": "Python 3",
   "language": "python",
   "name": "python3"
  },
  "language_info": {
   "codemirror_mode": {
    "name": "ipython",
    "version": 3
   },
   "file_extension": ".py",
   "mimetype": "text/x-python",
   "name": "python",
   "nbconvert_exporter": "python",
   "pygments_lexer": "ipython3",
   "version": "3.7.7"
  }
 },
 "nbformat": 4,
 "nbformat_minor": 5
}

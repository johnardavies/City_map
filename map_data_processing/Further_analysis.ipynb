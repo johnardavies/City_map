{
 "cells": [
  {
   "cell_type": "code",
   "execution_count": 1,
   "id": "exempt-portable",
   "metadata": {},
   "outputs": [],
   "source": [
    "import pandas as pd #importing the Pandas Library as 'pd'\n",
    "import numpy as np\n",
    "\n",
    "#Imports spatial libraries\n",
    "from keplergl import KeplerGl #importing KeplerGl\n",
    "import geopandas as gpd #importing geopandas as 'gpd'\n",
    "from shapely.geometry import Point\n",
    "from shapely.geometry import box\n",
    "import shapely.wkt\n",
    "from geopy.geocoders import Nominatim # Imports the geopy for the geocoding\n",
    "import geojson\n",
    "from geojson import Point, Feature, FeatureCollection, dump\n",
    "\n",
    "import xml.etree.ElementTree as ET\n",
    "from geojson_rewind import rewind\n",
    "\n",
    "import requests\n",
    "\n",
    "import matplotlib.pyplot as plt\n",
    "\n",
    "\n",
    "from time import time"
   ]
  },
  {
   "cell_type": "markdown",
   "id": "pacific-advantage",
   "metadata": {},
   "source": [
    "# Takes the food outlet locations, calculate 10 minute isochrone and convert to geojson"
   ]
  },
  {
   "cell_type": "code",
   "execution_count": 2,
   "id": "still-accreditation",
   "metadata": {},
   "outputs": [],
   "source": [
    "filename = \"Data/Out/Affordable_food_iniatives.geojson\"\n",
    "\n",
    "file = open(filename)\n",
    "Affordable_food_outlets = gpd.read_file(file)"
   ]
  },
  {
   "cell_type": "code",
   "execution_count": 3,
   "id": "passive-jonathan",
   "metadata": {},
   "outputs": [],
   "source": [
    "# Characteristics for API calls to calculate 10 minute walking time\n",
    "\n",
    "urlBase = 'https://api.mapbox.com/isochrone/v1/mapbox/'\n",
    "profile = 'walking/'\n",
    "minutes = 10\n",
    "mapboxglaccessToken = 'pk.eyJ1Ijoiam9obmFyZGF2aWVzIiwiYSI6ImNpeHRmZjhlYjAwMmUycW9qbHRvem0xa3gifQ.oQ9cnn8b5HATalxv9rppYg'\n",
    "\n",
    "\n",
    "# Function to make calls to the mapbox isochrone apis\n",
    "def isochrone_api(x):\n",
    "   api_call=urlBase+profile +str(x['lon'])+','+str(x['lat'])+'?contours_minutes='+str(minutes)+'&polygons=true&access_token='+mapboxglaccessToken\n",
    "   try:\n",
    "    walk_dist=requests.get(api_call)\n",
    "    walk_iso= walk_dist.json()['features'][0]\n",
    "   except:\n",
    "    walk_iso=\"call_failed\"\n",
    "   return walk_iso"
   ]
  },
  {
   "cell_type": "code",
   "execution_count": 4,
   "id": "written-commissioner",
   "metadata": {},
   "outputs": [],
   "source": [
    "# Call the isochrone API for each of the food output locations\n",
    "Affordable_food_outlets['walking_dist']=Affordable_food_outlets.apply(isochrone_api,axis=1)"
   ]
  },
  {
   "cell_type": "code",
   "execution_count": 5,
   "id": "fixed-photography",
   "metadata": {},
   "outputs": [],
   "source": [
    "# Take the outputs and turn into json\n",
    "travel_distances = FeatureCollection(Affordable_food_outlets['walking_dist'].values.tolist())"
   ]
  },
  {
   "cell_type": "code",
   "execution_count": 6,
   "id": "similar-jamaica",
   "metadata": {},
   "outputs": [],
   "source": [
    "# Ensures geojson follows the right handed rule\n",
    "travel_distances= rewind(travel_distances)"
   ]
  },
  {
   "cell_type": "code",
   "execution_count": 7,
   "id": "liquid-fitness",
   "metadata": {},
   "outputs": [],
   "source": [
    "# Convert to geopandas data frame\n",
    "travel_distances = gpd.GeoDataFrame.from_features(travel_distances[\"features\"])"
   ]
  },
  {
   "cell_type": "code",
   "execution_count": 8,
   "id": "grave-significance",
   "metadata": {},
   "outputs": [],
   "source": [
    "# Set projection\n",
    "travel_distances= travel_distances.set_crs(\"EPSG:4326\")"
   ]
  },
  {
   "cell_type": "code",
   "execution_count": 9,
   "id": "lightweight-queen",
   "metadata": {},
   "outputs": [
    {
     "data": {
      "text/plain": [
       "<AxesSubplot:>"
      ]
     },
     "execution_count": 9,
     "metadata": {},
     "output_type": "execute_result"
    },
    {
     "data": {
      "image/png": "[encoded data removed]",
      "text/plain": [
       "<Figure size 432x288 with 1 Axes>"
      ]
     },
     "metadata": {
      "needs_background": "light"
     },
     "output_type": "display_data"
    }
   ],
   "source": [
    "# Check it plots\n",
    "travel_distances.plot()"
   ]
  },
  {
   "cell_type": "code",
   "execution_count": 10,
   "id": "concerned-stick",
   "metadata": {},
   "outputs": [],
   "source": [
    "# Export\n",
    "with open('/notebooks/Isochrone.geojson', 'w') as f:\n",
    "   dump(travel_distances, f)"
   ]
  }
 ],
 "metadata": {
  "kernelspec": {
   "display_name": "Python 3",
   "language": "python",
   "name": "python3"
  },
  "language_info": {
   "codemirror_mode": {
    "name": "ipython",
    "version": 3
   },
   "file_extension": ".py",
   "mimetype": "text/x-python",
   "name": "python",
   "nbconvert_exporter": "python",
   "pygments_lexer": "ipython3",
   "version": "3.7.7"
  }
 },
 "nbformat": 4,
 "nbformat_minor": 5
}
